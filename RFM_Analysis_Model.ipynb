{
  "metadata": {
    "kernelspec": {
      "language": "python",
      "display_name": "Python 3",
      "name": "python3"
    },
    "language_info": {
      "name": "python",
      "version": "3.10.12",
      "mimetype": "text/x-python",
      "codemirror_mode": {
        "name": "ipython",
        "version": 3
      },
      "pygments_lexer": "ipython3",
      "nbconvert_exporter": "python",
      "file_extension": ".py"
    },
    "kaggle": {
      "accelerator": "none",
      "dataSources": [
        {
          "sourceId": 3404,
          "sourceType": "datasetVersion",
          "datasetId": 1985
        }
      ],
      "dockerImageVersionId": 30626,
      "isInternetEnabled": false,
      "language": "python",
      "sourceType": "notebook",
      "isGpuEnabled": false
    },
    "colab": {
      "provenance": [],
      "include_colab_link": true
    }
  },
  "nbformat_minor": 0,
  "nbformat": 4,
  "cells": [
    {
      "cell_type": "markdown",
      "metadata": {
        "id": "view-in-github",
        "colab_type": "text"
      },
      "source": [
        "<a href=\"https://colab.research.google.com/github/barrettbeatrice/RFM-Analysis-Predictive-Model/blob/main/RFM_Analysis_Model.ipynb\" target=\"_parent\"><img src=\"https://colab.research.google.com/assets/colab-badge.svg\" alt=\"Open In Colab\"/></a>"
      ]
    },
    {
      "source": [
        "\n",
        "# IMPORTANT: RUN THIS CELL IN ORDER TO IMPORT YOUR KAGGLE DATA SOURCES\n",
        "# TO THE CORRECT LOCATION (/kaggle/input) IN YOUR NOTEBOOK,\n",
        "# THEN FEEL FREE TO DELETE THIS CELL.\n",
        "# NOTE: THIS NOTEBOOK ENVIRONMENT DIFFERS FROM KAGGLE'S PYTHON\n",
        "# ENVIRONMENT SO THERE MAY BE MISSING LIBRARIES USED BY YOUR\n",
        "# NOTEBOOK.\n",
        "\n",
        "import os\n",
        "import sys\n",
        "from tempfile import NamedTemporaryFile\n",
        "from urllib.request import urlopen\n",
        "from urllib.parse import unquote, urlparse\n",
        "from urllib.error import HTTPError\n",
        "from zipfile import ZipFile\n",
        "import tarfile\n",
        "import shutil\n",
        "\n",
        "CHUNK_SIZE = 40960\n",
        "DATA_SOURCE_MAPPING = 'ecommerce-data:https%3A%2F%2Fstorage.googleapis.com%2Fkaggle-data-sets%2F1985%2F3404%2Fbundle%2Farchive.zip%3FX-Goog-Algorithm%3DGOOG4-RSA-SHA256%26X-Goog-Credential%3Dgcp-kaggle-com%2540kaggle-161607.iam.gserviceaccount.com%252F20240817%252Fauto%252Fstorage%252Fgoog4_request%26X-Goog-Date%3D20240817T170900Z%26X-Goog-Expires%3D259200%26X-Goog-SignedHeaders%3Dhost%26X-Goog-Signature%3D435b707a207b8cbe9a1891da209ceda60f0f34babe80c579e2af9b3851222b243c2d11b726cc3b2554218b1b44bced8f223a5937933ea723cd6416be23177a374f243484e8c19aa85ae3fa886ea9b3462357679489e91b789a1b5142edff3a0d9e1875acbedc47fac9bf7e888dc45c33d6f87b8905e244e426dc9ba520c481d703b5b731b024c32bd781960a26baca93621d7eb3b7e98ea9c4c6b18899b8b12c92c1d5dba18425a7cc6938f1fbf8e637538f8b6105d4b806731b19a136e3ba906f0b4e76820df5999ac133ff947d49f2a6c7fe3292d5e17ce9e1a15124cca37ae0bbdeb65ea257ede41cdecfbfdfc13724f7779e4f8a7626eb5763e42e54fc68'\n",
        "\n",
        "KAGGLE_INPUT_PATH='/kaggle/input'\n",
        "KAGGLE_WORKING_PATH='/kaggle/working'\n",
        "KAGGLE_SYMLINK='kaggle'\n",
        "\n",
        "!umount /kaggle/input/ 2> /dev/null\n",
        "shutil.rmtree('/kaggle/input', ignore_errors=True)\n",
        "os.makedirs(KAGGLE_INPUT_PATH, 0o777, exist_ok=True)\n",
        "os.makedirs(KAGGLE_WORKING_PATH, 0o777, exist_ok=True)\n",
        "\n",
        "try:\n",
        "  os.symlink(KAGGLE_INPUT_PATH, os.path.join(\"..\", 'input'), target_is_directory=True)\n",
        "except FileExistsError:\n",
        "  pass\n",
        "try:\n",
        "  os.symlink(KAGGLE_WORKING_PATH, os.path.join(\"..\", 'working'), target_is_directory=True)\n",
        "except FileExistsError:\n",
        "  pass\n",
        "\n",
        "for data_source_mapping in DATA_SOURCE_MAPPING.split(','):\n",
        "    directory, download_url_encoded = data_source_mapping.split(':')\n",
        "    download_url = unquote(download_url_encoded)\n",
        "    filename = urlparse(download_url).path\n",
        "    destination_path = os.path.join(KAGGLE_INPUT_PATH, directory)\n",
        "    try:\n",
        "        with urlopen(download_url) as fileres, NamedTemporaryFile() as tfile:\n",
        "            total_length = fileres.headers['content-length']\n",
        "            print(f'Downloading {directory}, {total_length} bytes compressed')\n",
        "            dl = 0\n",
        "            data = fileres.read(CHUNK_SIZE)\n",
        "            while len(data) > 0:\n",
        "                dl += len(data)\n",
        "                tfile.write(data)\n",
        "                done = int(50 * dl / int(total_length))\n",
        "                sys.stdout.write(f\"\\r[{'=' * done}{' ' * (50-done)}] {dl} bytes downloaded\")\n",
        "                sys.stdout.flush()\n",
        "                data = fileres.read(CHUNK_SIZE)\n",
        "            if filename.endswith('.zip'):\n",
        "              with ZipFile(tfile) as zfile:\n",
        "                zfile.extractall(destination_path)\n",
        "            else:\n",
        "              with tarfile.open(tfile.name) as tarfile:\n",
        "                tarfile.extractall(destination_path)\n",
        "            print(f'\\nDownloaded and uncompressed: {directory}')\n",
        "    except HTTPError as e:\n",
        "        print(f'Failed to load (likely expired) {download_url} to path {destination_path}')\n",
        "        continue\n",
        "    except OSError as e:\n",
        "        print(f'Failed to load {download_url} to path {destination_path}')\n",
        "        continue\n",
        "\n",
        "print('Data source import complete.')\n"
      ],
      "metadata": {
        "id": "CpwM59K8UF0_",
        "colab": {
          "base_uri": "https://localhost:8080/"
        },
        "outputId": "69e09698-e02a-4785-8845-dcb1071fb170"
      },
      "cell_type": "code",
      "outputs": [
        {
          "output_type": "stream",
          "name": "stdout",
          "text": [
            "Downloading ecommerce-data, 7548686 bytes compressed\n",
            "[==================================================] 7548686 bytes downloaded\n",
            "Downloaded and uncompressed: ecommerce-data\n",
            "Data source import complete.\n"
          ]
        }
      ],
      "execution_count": 1
    },
    {
      "cell_type": "code",
      "source": [],
      "metadata": {
        "id": "Nnttc1Z_VU-1"
      },
      "execution_count": null,
      "outputs": []
    },
    {
      "cell_type": "markdown",
      "source": [
        "# Introduction\n",
        "RFM (Recency, Frequency, Monetary) analysis is a well-established technique designed for behaviour-driven customer segmentation. Specifically, RFM analysis evaluates customers' recency (how long ago they made a purchase), frequency (how often they make purchases), and monetary value (how much money they spend).\n",
        "\n",
        "RFM helps divide customers into various segments to identify those more likely to respond to promotions.\n",
        "\n",
        "In this notebook, I will perform RFM segmentation and compare the results with those obtained using the K-means clustering algorithm on the same data.\n",
        "\n",
        "Note: I will refer to the customer groups obtained by the RFM framework as 'segments' and those obtained with the K-means clustering algorithm as 'clusters'."
      ],
      "metadata": {
        "id": "uPCgvJuIUF1B"
      }
    },
    {
      "cell_type": "markdown",
      "source": [
        "# Table of Contents\n",
        "- Data Import\n",
        "- Data Exploration and Cleaning\n",
        "    - Checking null values\n",
        "    - Duplicate values\n",
        "    - Cleaning records with zero UnitPrice\n",
        "    - Removing cancelled purchases\n",
        "- RFM Analysis\n",
        "    - RFM Framework\n",
        "    - Calculating Recency, Frequency and Monetary Values\n",
        "    - Exploratory Analysis of RFM Features\n",
        "        - Distributions\n",
        "        - Correlations\n",
        "        - Box Plots\n",
        "    - Assigning RFM Scores\n",
        "    - RFM Segmentation\n",
        "    - Analysis of Segments\n",
        "- K-Means Clustering\n",
        "    - Log Transformation\n",
        "    - Standardising Data\n",
        "    - Elbow Method\n",
        "    - Silhouette Score\n",
        "    - Model with 4 Clusters\n",
        "    - Evaluating Clusters\n",
        "        - Recency and Frequency by Cluster\n",
        "        - Recency and Monetary by Cluster\n",
        "- Comparing Results: RFM Segments vs. K-Mean Clusters\n",
        "    - Descriptive Statistics\n",
        "    - Mapping of Clusters and RFM Segments\n",
        "- Conclusion\n",
        "    - Example of marketing strategies for RFM segments\n",
        "- References"
      ],
      "metadata": {
        "id": "ov7u0ZyLUF1C"
      }
    },
    {
      "cell_type": "markdown",
      "source": [
        "# Data Import\n",
        "This dataset contains 8 variables that correspond to:\n",
        "\n",
        "<b> InvoiceNo </b>: Invoice number. Nominal, a 6-digit integral number uniquely assigned to each transaction. If this code starts with letter 'c', it indicates a cancellation.  \n",
        "<b> StockCode </b> : Product (item) code. Nominal, a 5-digit integral number uniquely assigned to each distinct product.  \n",
        "<b> Description </b>: Product (item) name. Nominal.  \n",
        "<b> Quantity </b>: The quantities of each product (item) per transaction. Numeric.  \n",
        "<b> InvoiceDate </b>: Invoice date and time.  \n",
        "<b> UnitPrice </b>: Unit price. Numeric, Product price per unit in sterling.  \n",
        "<b> CustomerID </b>: Customer number. Nominal, a 5-digit integral number uniquely assigned to each customer.  \n",
        "<b> Country </b>: Country name. Nominal, the name of the country where each customer resides."
      ],
      "metadata": {
        "id": "p2m4Z-4BUF1C"
      }
    },
    {
      "cell_type": "code",
      "source": [
        "#Importing necessary libraries\n",
        "import numpy as np # linear algebra\n",
        "import pandas as pd # data processing, CSV file I/O (e.g. pd.read_csv)\n",
        "import warnings\n",
        "warnings.filterwarnings(\"ignore\")\n",
        "import seaborn as sns\n",
        "import matplotlib.pyplot as plt\n",
        "import datetime as dt\n",
        "from sklearn.cluster import KMeans\n",
        "from sklearn import decomposition\n",
        "from sklearn.preprocessing import RobustScaler\n",
        "from sklearn.preprocessing import StandardScaler"
      ],
      "metadata": {
        "execution": {
          "iopub.status.busy": "2023-12-25T10:22:50.565899Z",
          "iopub.execute_input": "2023-12-25T10:22:50.566414Z",
          "iopub.status.idle": "2023-12-25T10:22:51.952659Z",
          "shell.execute_reply.started": "2023-12-25T10:22:50.566381Z",
          "shell.execute_reply": "2023-12-25T10:22:51.951451Z"
        },
        "trusted": true,
        "id": "TLlgB5r5UF1C"
      },
      "execution_count": 2,
      "outputs": []
    },
    {
      "cell_type": "code",
      "source": [
        "data = pd.read_csv('/kaggle/input/ecommerce-data/data.csv',\n",
        "                   encoding = 'unicode_escape',\n",
        "                   parse_dates = ['InvoiceDate'],\n",
        "                   dtype={'CustomerID': str,'InvoiceNo': str})\n",
        "data.describe()\n",
        "\n",
        "data.head(15)"
      ],
      "metadata": {
        "execution": {
          "iopub.status.busy": "2023-12-25T10:22:51.954747Z",
          "iopub.execute_input": "2023-12-25T10:22:51.955302Z",
          "iopub.status.idle": "2023-12-25T10:22:53.936768Z",
          "shell.execute_reply.started": "2023-12-25T10:22:51.955265Z",
          "shell.execute_reply": "2023-12-25T10:22:53.935734Z"
        },
        "trusted": true,
        "id": "MQhV555PUF1D",
        "colab": {
          "base_uri": "https://localhost:8080/",
          "height": 520
        },
        "outputId": "5ef1d5b6-94da-42d2-9090-78e9bdb15b37"
      },
      "execution_count": 6,
      "outputs": [
        {
          "output_type": "execute_result",
          "data": {
            "text/plain": [
              "   InvoiceNo StockCode                          Description  Quantity  \\\n",
              "0     536365    85123A   WHITE HANGING HEART T-LIGHT HOLDER         6   \n",
              "1     536365     71053                  WHITE METAL LANTERN         6   \n",
              "2     536365    84406B       CREAM CUPID HEARTS COAT HANGER         8   \n",
              "3     536365    84029G  KNITTED UNION FLAG HOT WATER BOTTLE         6   \n",
              "4     536365    84029E       RED WOOLLY HOTTIE WHITE HEART.         6   \n",
              "5     536365     22752         SET 7 BABUSHKA NESTING BOXES         2   \n",
              "6     536365     21730    GLASS STAR FROSTED T-LIGHT HOLDER         6   \n",
              "7     536366     22633               HAND WARMER UNION JACK         6   \n",
              "8     536366     22632            HAND WARMER RED POLKA DOT         6   \n",
              "9     536367     84879        ASSORTED COLOUR BIRD ORNAMENT        32   \n",
              "10    536367     22745           POPPY'S PLAYHOUSE BEDROOM          6   \n",
              "11    536367     22748            POPPY'S PLAYHOUSE KITCHEN         6   \n",
              "12    536367     22749    FELTCRAFT PRINCESS CHARLOTTE DOLL         8   \n",
              "13    536367     22310              IVORY KNITTED MUG COSY          6   \n",
              "14    536367     84969   BOX OF 6 ASSORTED COLOUR TEASPOONS         6   \n",
              "\n",
              "           InvoiceDate  UnitPrice CustomerID         Country  \n",
              "0  2010-12-01 08:26:00       2.55      17850  United Kingdom  \n",
              "1  2010-12-01 08:26:00       3.39      17850  United Kingdom  \n",
              "2  2010-12-01 08:26:00       2.75      17850  United Kingdom  \n",
              "3  2010-12-01 08:26:00       3.39      17850  United Kingdom  \n",
              "4  2010-12-01 08:26:00       3.39      17850  United Kingdom  \n",
              "5  2010-12-01 08:26:00       7.65      17850  United Kingdom  \n",
              "6  2010-12-01 08:26:00       4.25      17850  United Kingdom  \n",
              "7  2010-12-01 08:28:00       1.85      17850  United Kingdom  \n",
              "8  2010-12-01 08:28:00       1.85      17850  United Kingdom  \n",
              "9  2010-12-01 08:34:00       1.69      13047  United Kingdom  \n",
              "10 2010-12-01 08:34:00       2.10      13047  United Kingdom  \n",
              "11 2010-12-01 08:34:00       2.10      13047  United Kingdom  \n",
              "12 2010-12-01 08:34:00       3.75      13047  United Kingdom  \n",
              "13 2010-12-01 08:34:00       1.65      13047  United Kingdom  \n",
              "14 2010-12-01 08:34:00       4.25      13047  United Kingdom  "
            ],
            "text/html": [
              "\n",
              "  <div id=\"df-1d2e4c14-79b1-428f-b0a2-152ada09ccef\" class=\"colab-df-container\">\n",
              "    <div>\n",
              "<style scoped>\n",
              "    .dataframe tbody tr th:only-of-type {\n",
              "        vertical-align: middle;\n",
              "    }\n",
              "\n",
              "    .dataframe tbody tr th {\n",
              "        vertical-align: top;\n",
              "    }\n",
              "\n",
              "    .dataframe thead th {\n",
              "        text-align: right;\n",
              "    }\n",
              "</style>\n",
              "<table border=\"1\" class=\"dataframe\">\n",
              "  <thead>\n",
              "    <tr style=\"text-align: right;\">\n",
              "      <th></th>\n",
              "      <th>InvoiceNo</th>\n",
              "      <th>StockCode</th>\n",
              "      <th>Description</th>\n",
              "      <th>Quantity</th>\n",
              "      <th>InvoiceDate</th>\n",
              "      <th>UnitPrice</th>\n",
              "      <th>CustomerID</th>\n",
              "      <th>Country</th>\n",
              "    </tr>\n",
              "  </thead>\n",
              "  <tbody>\n",
              "    <tr>\n",
              "      <th>0</th>\n",
              "      <td>536365</td>\n",
              "      <td>85123A</td>\n",
              "      <td>WHITE HANGING HEART T-LIGHT HOLDER</td>\n",
              "      <td>6</td>\n",
              "      <td>2010-12-01 08:26:00</td>\n",
              "      <td>2.55</td>\n",
              "      <td>17850</td>\n",
              "      <td>United Kingdom</td>\n",
              "    </tr>\n",
              "    <tr>\n",
              "      <th>1</th>\n",
              "      <td>536365</td>\n",
              "      <td>71053</td>\n",
              "      <td>WHITE METAL LANTERN</td>\n",
              "      <td>6</td>\n",
              "      <td>2010-12-01 08:26:00</td>\n",
              "      <td>3.39</td>\n",
              "      <td>17850</td>\n",
              "      <td>United Kingdom</td>\n",
              "    </tr>\n",
              "    <tr>\n",
              "      <th>2</th>\n",
              "      <td>536365</td>\n",
              "      <td>84406B</td>\n",
              "      <td>CREAM CUPID HEARTS COAT HANGER</td>\n",
              "      <td>8</td>\n",
              "      <td>2010-12-01 08:26:00</td>\n",
              "      <td>2.75</td>\n",
              "      <td>17850</td>\n",
              "      <td>United Kingdom</td>\n",
              "    </tr>\n",
              "    <tr>\n",
              "      <th>3</th>\n",
              "      <td>536365</td>\n",
              "      <td>84029G</td>\n",
              "      <td>KNITTED UNION FLAG HOT WATER BOTTLE</td>\n",
              "      <td>6</td>\n",
              "      <td>2010-12-01 08:26:00</td>\n",
              "      <td>3.39</td>\n",
              "      <td>17850</td>\n",
              "      <td>United Kingdom</td>\n",
              "    </tr>\n",
              "    <tr>\n",
              "      <th>4</th>\n",
              "      <td>536365</td>\n",
              "      <td>84029E</td>\n",
              "      <td>RED WOOLLY HOTTIE WHITE HEART.</td>\n",
              "      <td>6</td>\n",
              "      <td>2010-12-01 08:26:00</td>\n",
              "      <td>3.39</td>\n",
              "      <td>17850</td>\n",
              "      <td>United Kingdom</td>\n",
              "    </tr>\n",
              "    <tr>\n",
              "      <th>5</th>\n",
              "      <td>536365</td>\n",
              "      <td>22752</td>\n",
              "      <td>SET 7 BABUSHKA NESTING BOXES</td>\n",
              "      <td>2</td>\n",
              "      <td>2010-12-01 08:26:00</td>\n",
              "      <td>7.65</td>\n",
              "      <td>17850</td>\n",
              "      <td>United Kingdom</td>\n",
              "    </tr>\n",
              "    <tr>\n",
              "      <th>6</th>\n",
              "      <td>536365</td>\n",
              "      <td>21730</td>\n",
              "      <td>GLASS STAR FROSTED T-LIGHT HOLDER</td>\n",
              "      <td>6</td>\n",
              "      <td>2010-12-01 08:26:00</td>\n",
              "      <td>4.25</td>\n",
              "      <td>17850</td>\n",
              "      <td>United Kingdom</td>\n",
              "    </tr>\n",
              "    <tr>\n",
              "      <th>7</th>\n",
              "      <td>536366</td>\n",
              "      <td>22633</td>\n",
              "      <td>HAND WARMER UNION JACK</td>\n",
              "      <td>6</td>\n",
              "      <td>2010-12-01 08:28:00</td>\n",
              "      <td>1.85</td>\n",
              "      <td>17850</td>\n",
              "      <td>United Kingdom</td>\n",
              "    </tr>\n",
              "    <tr>\n",
              "      <th>8</th>\n",
              "      <td>536366</td>\n",
              "      <td>22632</td>\n",
              "      <td>HAND WARMER RED POLKA DOT</td>\n",
              "      <td>6</td>\n",
              "      <td>2010-12-01 08:28:00</td>\n",
              "      <td>1.85</td>\n",
              "      <td>17850</td>\n",
              "      <td>United Kingdom</td>\n",
              "    </tr>\n",
              "    <tr>\n",
              "      <th>9</th>\n",
              "      <td>536367</td>\n",
              "      <td>84879</td>\n",
              "      <td>ASSORTED COLOUR BIRD ORNAMENT</td>\n",
              "      <td>32</td>\n",
              "      <td>2010-12-01 08:34:00</td>\n",
              "      <td>1.69</td>\n",
              "      <td>13047</td>\n",
              "      <td>United Kingdom</td>\n",
              "    </tr>\n",
              "    <tr>\n",
              "      <th>10</th>\n",
              "      <td>536367</td>\n",
              "      <td>22745</td>\n",
              "      <td>POPPY'S PLAYHOUSE BEDROOM</td>\n",
              "      <td>6</td>\n",
              "      <td>2010-12-01 08:34:00</td>\n",
              "      <td>2.10</td>\n",
              "      <td>13047</td>\n",
              "      <td>United Kingdom</td>\n",
              "    </tr>\n",
              "    <tr>\n",
              "      <th>11</th>\n",
              "      <td>536367</td>\n",
              "      <td>22748</td>\n",
              "      <td>POPPY'S PLAYHOUSE KITCHEN</td>\n",
              "      <td>6</td>\n",
              "      <td>2010-12-01 08:34:00</td>\n",
              "      <td>2.10</td>\n",
              "      <td>13047</td>\n",
              "      <td>United Kingdom</td>\n",
              "    </tr>\n",
              "    <tr>\n",
              "      <th>12</th>\n",
              "      <td>536367</td>\n",
              "      <td>22749</td>\n",
              "      <td>FELTCRAFT PRINCESS CHARLOTTE DOLL</td>\n",
              "      <td>8</td>\n",
              "      <td>2010-12-01 08:34:00</td>\n",
              "      <td>3.75</td>\n",
              "      <td>13047</td>\n",
              "      <td>United Kingdom</td>\n",
              "    </tr>\n",
              "    <tr>\n",
              "      <th>13</th>\n",
              "      <td>536367</td>\n",
              "      <td>22310</td>\n",
              "      <td>IVORY KNITTED MUG COSY</td>\n",
              "      <td>6</td>\n",
              "      <td>2010-12-01 08:34:00</td>\n",
              "      <td>1.65</td>\n",
              "      <td>13047</td>\n",
              "      <td>United Kingdom</td>\n",
              "    </tr>\n",
              "    <tr>\n",
              "      <th>14</th>\n",
              "      <td>536367</td>\n",
              "      <td>84969</td>\n",
              "      <td>BOX OF 6 ASSORTED COLOUR TEASPOONS</td>\n",
              "      <td>6</td>\n",
              "      <td>2010-12-01 08:34:00</td>\n",
              "      <td>4.25</td>\n",
              "      <td>13047</td>\n",
              "      <td>United Kingdom</td>\n",
              "    </tr>\n",
              "  </tbody>\n",
              "</table>\n",
              "</div>\n",
              "    <div class=\"colab-df-buttons\">\n",
              "\n",
              "  <div class=\"colab-df-container\">\n",
              "    <button class=\"colab-df-convert\" onclick=\"convertToInteractive('df-1d2e4c14-79b1-428f-b0a2-152ada09ccef')\"\n",
              "            title=\"Convert this dataframe to an interactive table.\"\n",
              "            style=\"display:none;\">\n",
              "\n",
              "  <svg xmlns=\"http://www.w3.org/2000/svg\" height=\"24px\" viewBox=\"0 -960 960 960\">\n",
              "    <path d=\"M120-120v-720h720v720H120Zm60-500h600v-160H180v160Zm220 220h160v-160H400v160Zm0 220h160v-160H400v160ZM180-400h160v-160H180v160Zm440 0h160v-160H620v160ZM180-180h160v-160H180v160Zm440 0h160v-160H620v160Z\"/>\n",
              "  </svg>\n",
              "    </button>\n",
              "\n",
              "  <style>\n",
              "    .colab-df-container {\n",
              "      display:flex;\n",
              "      gap: 12px;\n",
              "    }\n",
              "\n",
              "    .colab-df-convert {\n",
              "      background-color: #E8F0FE;\n",
              "      border: none;\n",
              "      border-radius: 50%;\n",
              "      cursor: pointer;\n",
              "      display: none;\n",
              "      fill: #1967D2;\n",
              "      height: 32px;\n",
              "      padding: 0 0 0 0;\n",
              "      width: 32px;\n",
              "    }\n",
              "\n",
              "    .colab-df-convert:hover {\n",
              "      background-color: #E2EBFA;\n",
              "      box-shadow: 0px 1px 2px rgba(60, 64, 67, 0.3), 0px 1px 3px 1px rgba(60, 64, 67, 0.15);\n",
              "      fill: #174EA6;\n",
              "    }\n",
              "\n",
              "    .colab-df-buttons div {\n",
              "      margin-bottom: 4px;\n",
              "    }\n",
              "\n",
              "    [theme=dark] .colab-df-convert {\n",
              "      background-color: #3B4455;\n",
              "      fill: #D2E3FC;\n",
              "    }\n",
              "\n",
              "    [theme=dark] .colab-df-convert:hover {\n",
              "      background-color: #434B5C;\n",
              "      box-shadow: 0px 1px 3px 1px rgba(0, 0, 0, 0.15);\n",
              "      filter: drop-shadow(0px 1px 2px rgba(0, 0, 0, 0.3));\n",
              "      fill: #FFFFFF;\n",
              "    }\n",
              "  </style>\n",
              "\n",
              "    <script>\n",
              "      const buttonEl =\n",
              "        document.querySelector('#df-1d2e4c14-79b1-428f-b0a2-152ada09ccef button.colab-df-convert');\n",
              "      buttonEl.style.display =\n",
              "        google.colab.kernel.accessAllowed ? 'block' : 'none';\n",
              "\n",
              "      async function convertToInteractive(key) {\n",
              "        const element = document.querySelector('#df-1d2e4c14-79b1-428f-b0a2-152ada09ccef');\n",
              "        const dataTable =\n",
              "          await google.colab.kernel.invokeFunction('convertToInteractive',\n",
              "                                                    [key], {});\n",
              "        if (!dataTable) return;\n",
              "\n",
              "        const docLinkHtml = 'Like what you see? Visit the ' +\n",
              "          '<a target=\"_blank\" href=https://colab.research.google.com/notebooks/data_table.ipynb>data table notebook</a>'\n",
              "          + ' to learn more about interactive tables.';\n",
              "        element.innerHTML = '';\n",
              "        dataTable['output_type'] = 'display_data';\n",
              "        await google.colab.output.renderOutput(dataTable, element);\n",
              "        const docLink = document.createElement('div');\n",
              "        docLink.innerHTML = docLinkHtml;\n",
              "        element.appendChild(docLink);\n",
              "      }\n",
              "    </script>\n",
              "  </div>\n",
              "\n",
              "\n",
              "<div id=\"df-c68f11b6-b12f-4fbf-b4aa-1f91c855a45d\">\n",
              "  <button class=\"colab-df-quickchart\" onclick=\"quickchart('df-c68f11b6-b12f-4fbf-b4aa-1f91c855a45d')\"\n",
              "            title=\"Suggest charts\"\n",
              "            style=\"display:none;\">\n",
              "\n",
              "<svg xmlns=\"http://www.w3.org/2000/svg\" height=\"24px\"viewBox=\"0 0 24 24\"\n",
              "     width=\"24px\">\n",
              "    <g>\n",
              "        <path d=\"M19 3H5c-1.1 0-2 .9-2 2v14c0 1.1.9 2 2 2h14c1.1 0 2-.9 2-2V5c0-1.1-.9-2-2-2zM9 17H7v-7h2v7zm4 0h-2V7h2v10zm4 0h-2v-4h2v4z\"/>\n",
              "    </g>\n",
              "</svg>\n",
              "  </button>\n",
              "\n",
              "<style>\n",
              "  .colab-df-quickchart {\n",
              "      --bg-color: #E8F0FE;\n",
              "      --fill-color: #1967D2;\n",
              "      --hover-bg-color: #E2EBFA;\n",
              "      --hover-fill-color: #174EA6;\n",
              "      --disabled-fill-color: #AAA;\n",
              "      --disabled-bg-color: #DDD;\n",
              "  }\n",
              "\n",
              "  [theme=dark] .colab-df-quickchart {\n",
              "      --bg-color: #3B4455;\n",
              "      --fill-color: #D2E3FC;\n",
              "      --hover-bg-color: #434B5C;\n",
              "      --hover-fill-color: #FFFFFF;\n",
              "      --disabled-bg-color: #3B4455;\n",
              "      --disabled-fill-color: #666;\n",
              "  }\n",
              "\n",
              "  .colab-df-quickchart {\n",
              "    background-color: var(--bg-color);\n",
              "    border: none;\n",
              "    border-radius: 50%;\n",
              "    cursor: pointer;\n",
              "    display: none;\n",
              "    fill: var(--fill-color);\n",
              "    height: 32px;\n",
              "    padding: 0;\n",
              "    width: 32px;\n",
              "  }\n",
              "\n",
              "  .colab-df-quickchart:hover {\n",
              "    background-color: var(--hover-bg-color);\n",
              "    box-shadow: 0 1px 2px rgba(60, 64, 67, 0.3), 0 1px 3px 1px rgba(60, 64, 67, 0.15);\n",
              "    fill: var(--button-hover-fill-color);\n",
              "  }\n",
              "\n",
              "  .colab-df-quickchart-complete:disabled,\n",
              "  .colab-df-quickchart-complete:disabled:hover {\n",
              "    background-color: var(--disabled-bg-color);\n",
              "    fill: var(--disabled-fill-color);\n",
              "    box-shadow: none;\n",
              "  }\n",
              "\n",
              "  .colab-df-spinner {\n",
              "    border: 2px solid var(--fill-color);\n",
              "    border-color: transparent;\n",
              "    border-bottom-color: var(--fill-color);\n",
              "    animation:\n",
              "      spin 1s steps(1) infinite;\n",
              "  }\n",
              "\n",
              "  @keyframes spin {\n",
              "    0% {\n",
              "      border-color: transparent;\n",
              "      border-bottom-color: var(--fill-color);\n",
              "      border-left-color: var(--fill-color);\n",
              "    }\n",
              "    20% {\n",
              "      border-color: transparent;\n",
              "      border-left-color: var(--fill-color);\n",
              "      border-top-color: var(--fill-color);\n",
              "    }\n",
              "    30% {\n",
              "      border-color: transparent;\n",
              "      border-left-color: var(--fill-color);\n",
              "      border-top-color: var(--fill-color);\n",
              "      border-right-color: var(--fill-color);\n",
              "    }\n",
              "    40% {\n",
              "      border-color: transparent;\n",
              "      border-right-color: var(--fill-color);\n",
              "      border-top-color: var(--fill-color);\n",
              "    }\n",
              "    60% {\n",
              "      border-color: transparent;\n",
              "      border-right-color: var(--fill-color);\n",
              "    }\n",
              "    80% {\n",
              "      border-color: transparent;\n",
              "      border-right-color: var(--fill-color);\n",
              "      border-bottom-color: var(--fill-color);\n",
              "    }\n",
              "    90% {\n",
              "      border-color: transparent;\n",
              "      border-bottom-color: var(--fill-color);\n",
              "    }\n",
              "  }\n",
              "</style>\n",
              "\n",
              "  <script>\n",
              "    async function quickchart(key) {\n",
              "      const quickchartButtonEl =\n",
              "        document.querySelector('#' + key + ' button');\n",
              "      quickchartButtonEl.disabled = true;  // To prevent multiple clicks.\n",
              "      quickchartButtonEl.classList.add('colab-df-spinner');\n",
              "      try {\n",
              "        const charts = await google.colab.kernel.invokeFunction(\n",
              "            'suggestCharts', [key], {});\n",
              "      } catch (error) {\n",
              "        console.error('Error during call to suggestCharts:', error);\n",
              "      }\n",
              "      quickchartButtonEl.classList.remove('colab-df-spinner');\n",
              "      quickchartButtonEl.classList.add('colab-df-quickchart-complete');\n",
              "    }\n",
              "    (() => {\n",
              "      let quickchartButtonEl =\n",
              "        document.querySelector('#df-c68f11b6-b12f-4fbf-b4aa-1f91c855a45d button');\n",
              "      quickchartButtonEl.style.display =\n",
              "        google.colab.kernel.accessAllowed ? 'block' : 'none';\n",
              "    })();\n",
              "  </script>\n",
              "</div>\n",
              "\n",
              "    </div>\n",
              "  </div>\n"
            ],
            "application/vnd.google.colaboratory.intrinsic+json": {
              "type": "dataframe",
              "variable_name": "data"
            }
          },
          "metadata": {},
          "execution_count": 6
        }
      ]
    },
    {
      "cell_type": "code",
      "source": [
        "data.info()"
      ],
      "metadata": {
        "execution": {
          "iopub.status.busy": "2023-12-25T10:22:53.938007Z",
          "iopub.execute_input": "2023-12-25T10:22:53.938321Z",
          "iopub.status.idle": "2023-12-25T10:22:54.075981Z",
          "shell.execute_reply.started": "2023-12-25T10:22:53.938293Z",
          "shell.execute_reply": "2023-12-25T10:22:54.075177Z"
        },
        "trusted": true,
        "id": "oIsjJDdHUF1D",
        "colab": {
          "base_uri": "https://localhost:8080/"
        },
        "outputId": "6c536639-3706-4a16-c4e9-fc0d8cd2ad91"
      },
      "execution_count": 7,
      "outputs": [
        {
          "output_type": "stream",
          "name": "stdout",
          "text": [
            "<class 'pandas.core.frame.DataFrame'>\n",
            "RangeIndex: 541909 entries, 0 to 541908\n",
            "Data columns (total 8 columns):\n",
            " #   Column       Non-Null Count   Dtype         \n",
            "---  ------       --------------   -----         \n",
            " 0   InvoiceNo    541909 non-null  object        \n",
            " 1   StockCode    541909 non-null  object        \n",
            " 2   Description  540455 non-null  object        \n",
            " 3   Quantity     541909 non-null  int64         \n",
            " 4   InvoiceDate  541909 non-null  datetime64[ns]\n",
            " 5   UnitPrice    541909 non-null  float64       \n",
            " 6   CustomerID   406829 non-null  object        \n",
            " 7   Country      541909 non-null  object        \n",
            "dtypes: datetime64[ns](1), float64(1), int64(1), object(5)\n",
            "memory usage: 33.1+ MB\n"
          ]
        }
      ]
    },
    {
      "cell_type": "markdown",
      "source": [
        "# Data Exploration and Cleaning\n",
        "## Checking Null Values"
      ],
      "metadata": {
        "id": "SiJNfdbiUF1D"
      }
    },
    {
      "cell_type": "code",
      "source": [
        "data.isna().sum()"
      ],
      "metadata": {
        "execution": {
          "iopub.status.busy": "2023-12-25T10:22:54.077872Z",
          "iopub.execute_input": "2023-12-25T10:22:54.0789Z",
          "iopub.status.idle": "2023-12-25T10:22:54.208681Z",
          "shell.execute_reply.started": "2023-12-25T10:22:54.07886Z",
          "shell.execute_reply": "2023-12-25T10:22:54.207479Z"
        },
        "trusted": true,
        "id": "e7CHHAR2UF1D",
        "colab": {
          "base_uri": "https://localhost:8080/",
          "height": 335
        },
        "outputId": "e464b638-b916-46f6-8fb2-963b019b360e"
      },
      "execution_count": 8,
      "outputs": [
        {
          "output_type": "execute_result",
          "data": {
            "text/plain": [
              "InvoiceNo           0\n",
              "StockCode           0\n",
              "Description      1454\n",
              "Quantity            0\n",
              "InvoiceDate         0\n",
              "UnitPrice           0\n",
              "CustomerID     135080\n",
              "Country             0\n",
              "dtype: int64"
            ],
            "text/html": [
              "<div>\n",
              "<style scoped>\n",
              "    .dataframe tbody tr th:only-of-type {\n",
              "        vertical-align: middle;\n",
              "    }\n",
              "\n",
              "    .dataframe tbody tr th {\n",
              "        vertical-align: top;\n",
              "    }\n",
              "\n",
              "    .dataframe thead th {\n",
              "        text-align: right;\n",
              "    }\n",
              "</style>\n",
              "<table border=\"1\" class=\"dataframe\">\n",
              "  <thead>\n",
              "    <tr style=\"text-align: right;\">\n",
              "      <th></th>\n",
              "      <th>0</th>\n",
              "    </tr>\n",
              "  </thead>\n",
              "  <tbody>\n",
              "    <tr>\n",
              "      <th>InvoiceNo</th>\n",
              "      <td>0</td>\n",
              "    </tr>\n",
              "    <tr>\n",
              "      <th>StockCode</th>\n",
              "      <td>0</td>\n",
              "    </tr>\n",
              "    <tr>\n",
              "      <th>Description</th>\n",
              "      <td>1454</td>\n",
              "    </tr>\n",
              "    <tr>\n",
              "      <th>Quantity</th>\n",
              "      <td>0</td>\n",
              "    </tr>\n",
              "    <tr>\n",
              "      <th>InvoiceDate</th>\n",
              "      <td>0</td>\n",
              "    </tr>\n",
              "    <tr>\n",
              "      <th>UnitPrice</th>\n",
              "      <td>0</td>\n",
              "    </tr>\n",
              "    <tr>\n",
              "      <th>CustomerID</th>\n",
              "      <td>135080</td>\n",
              "    </tr>\n",
              "    <tr>\n",
              "      <th>Country</th>\n",
              "      <td>0</td>\n",
              "    </tr>\n",
              "  </tbody>\n",
              "</table>\n",
              "</div><br><label><b>dtype:</b> int64</label>"
            ]
          },
          "metadata": {},
          "execution_count": 8
        }
      ]
    },
    {
      "cell_type": "markdown",
      "source": [
        "There are about 135K records without a CustomerID. Our goal is to segment the customers. So, CustomerID is crucial for segmentation. Let's drop the rows where CustomerID is null."
      ],
      "metadata": {
        "id": "5Ss9tH6-UF1D"
      }
    },
    {
      "cell_type": "code",
      "source": [
        "data.dropna(axis = 0, subset = ['CustomerID'], inplace = True)\n",
        "data.isna().sum()"
      ],
      "metadata": {
        "execution": {
          "iopub.status.busy": "2023-12-25T10:22:54.210696Z",
          "iopub.execute_input": "2023-12-25T10:22:54.211095Z",
          "iopub.status.idle": "2023-12-25T10:22:54.395994Z",
          "shell.execute_reply.started": "2023-12-25T10:22:54.211061Z",
          "shell.execute_reply": "2023-12-25T10:22:54.394911Z"
        },
        "trusted": true,
        "id": "vJon8DFFUF1E",
        "colab": {
          "base_uri": "https://localhost:8080/",
          "height": 335
        },
        "outputId": "f582914c-23bd-4f5b-c1f5-3718e1052bef"
      },
      "execution_count": 9,
      "outputs": [
        {
          "output_type": "execute_result",
          "data": {
            "text/plain": [
              "InvoiceNo      0\n",
              "StockCode      0\n",
              "Description    0\n",
              "Quantity       0\n",
              "InvoiceDate    0\n",
              "UnitPrice      0\n",
              "CustomerID     0\n",
              "Country        0\n",
              "dtype: int64"
            ],
            "text/html": [
              "<div>\n",
              "<style scoped>\n",
              "    .dataframe tbody tr th:only-of-type {\n",
              "        vertical-align: middle;\n",
              "    }\n",
              "\n",
              "    .dataframe tbody tr th {\n",
              "        vertical-align: top;\n",
              "    }\n",
              "\n",
              "    .dataframe thead th {\n",
              "        text-align: right;\n",
              "    }\n",
              "</style>\n",
              "<table border=\"1\" class=\"dataframe\">\n",
              "  <thead>\n",
              "    <tr style=\"text-align: right;\">\n",
              "      <th></th>\n",
              "      <th>0</th>\n",
              "    </tr>\n",
              "  </thead>\n",
              "  <tbody>\n",
              "    <tr>\n",
              "      <th>InvoiceNo</th>\n",
              "      <td>0</td>\n",
              "    </tr>\n",
              "    <tr>\n",
              "      <th>StockCode</th>\n",
              "      <td>0</td>\n",
              "    </tr>\n",
              "    <tr>\n",
              "      <th>Description</th>\n",
              "      <td>0</td>\n",
              "    </tr>\n",
              "    <tr>\n",
              "      <th>Quantity</th>\n",
              "      <td>0</td>\n",
              "    </tr>\n",
              "    <tr>\n",
              "      <th>InvoiceDate</th>\n",
              "      <td>0</td>\n",
              "    </tr>\n",
              "    <tr>\n",
              "      <th>UnitPrice</th>\n",
              "      <td>0</td>\n",
              "    </tr>\n",
              "    <tr>\n",
              "      <th>CustomerID</th>\n",
              "      <td>0</td>\n",
              "    </tr>\n",
              "    <tr>\n",
              "      <th>Country</th>\n",
              "      <td>0</td>\n",
              "    </tr>\n",
              "  </tbody>\n",
              "</table>\n",
              "</div><br><label><b>dtype:</b> int64</label>"
            ]
          },
          "metadata": {},
          "execution_count": 9
        }
      ]
    },
    {
      "cell_type": "markdown",
      "source": [
        "Looks like the null Descriptions are gone with null CustomerIDs."
      ],
      "metadata": {
        "id": "aubELBigUF1E"
      }
    },
    {
      "cell_type": "markdown",
      "source": [
        "## Duplicate Values"
      ],
      "metadata": {
        "id": "mXfDt0L1UF1E"
      }
    },
    {
      "cell_type": "code",
      "source": [
        "print('Number of duplicates: {}'.format(data.duplicated().sum()))\n"
      ],
      "metadata": {
        "execution": {
          "iopub.status.busy": "2023-12-25T10:22:54.397279Z",
          "iopub.execute_input": "2023-12-25T10:22:54.398611Z",
          "iopub.status.idle": "2023-12-25T10:22:54.700239Z",
          "shell.execute_reply.started": "2023-12-25T10:22:54.398578Z",
          "shell.execute_reply": "2023-12-25T10:22:54.698933Z"
        },
        "trusted": true,
        "id": "zK81nFBaUF1E",
        "colab": {
          "base_uri": "https://localhost:8080/"
        },
        "outputId": "ce94b270-56e9-46e6-b7a9-f488c1f4c927"
      },
      "execution_count": 10,
      "outputs": [
        {
          "output_type": "stream",
          "name": "stdout",
          "text": [
            "Number of duplicates: 5225\n"
          ]
        }
      ]
    },
    {
      "cell_type": "code",
      "source": [
        "data.drop_duplicates(inplace = True)"
      ],
      "metadata": {
        "execution": {
          "iopub.status.busy": "2023-12-25T10:22:54.703086Z",
          "iopub.execute_input": "2023-12-25T10:22:54.70358Z",
          "iopub.status.idle": "2023-12-25T10:22:55.067902Z",
          "shell.execute_reply.started": "2023-12-25T10:22:54.703535Z",
          "shell.execute_reply": "2023-12-25T10:22:55.066437Z"
        },
        "trusted": true,
        "id": "C9HJXDsmUF1E"
      },
      "execution_count": 11,
      "outputs": []
    },
    {
      "cell_type": "markdown",
      "source": [
        "The data has no duplicate values now."
      ],
      "metadata": {
        "id": "UOpK7QJKUF1E"
      }
    },
    {
      "cell_type": "markdown",
      "source": [
        "## Cleaning Records with Zero UnitPrice"
      ],
      "metadata": {
        "id": "0X9fRlKsUF1E"
      }
    },
    {
      "cell_type": "markdown",
      "source": [
        "There are 40 records that have UnitPrice equal 0. I did not notice any pattern in the records with UnitPrice==0. There were no field indicating discount or promotion.  These records may result to Monetary value equal zero. These records will be removed from the dataset."
      ],
      "metadata": {
        "id": "0ktPTKBEUF1E"
      }
    },
    {
      "cell_type": "code",
      "source": [
        "data[data['UnitPrice']==0].describe()"
      ],
      "metadata": {
        "execution": {
          "iopub.status.busy": "2023-12-25T10:22:55.069579Z",
          "iopub.execute_input": "2023-12-25T10:22:55.070673Z",
          "iopub.status.idle": "2023-12-25T10:22:55.099313Z",
          "shell.execute_reply.started": "2023-12-25T10:22:55.070633Z",
          "shell.execute_reply": "2023-12-25T10:22:55.098166Z"
        },
        "trusted": true,
        "id": "kINH5PsiUF1E",
        "colab": {
          "base_uri": "https://localhost:8080/",
          "height": 300
        },
        "outputId": "0ccf9eb7-db1b-4bdb-cb82-13fd49cfdc68"
      },
      "execution_count": 12,
      "outputs": [
        {
          "output_type": "execute_result",
          "data": {
            "text/plain": [
              "           Quantity                 InvoiceDate  UnitPrice\n",
              "count     40.000000                          40       40.0\n",
              "mean     347.100000  2011-07-26 08:19:34.500000        0.0\n",
              "min        1.000000         2010-12-05 14:02:00        0.0\n",
              "25%        1.000000         2011-04-12 05:53:15        0.0\n",
              "50%        4.500000         2011-08-26 14:19:00        0.0\n",
              "75%       24.000000         2011-11-05 06:16:45        0.0\n",
              "max    12540.000000         2011-11-25 15:57:00        0.0\n",
              "std     1978.311813                         NaN        0.0"
            ],
            "text/html": [
              "\n",
              "  <div id=\"df-b365bc7d-5c30-438a-9a97-d738edacdcbd\" class=\"colab-df-container\">\n",
              "    <div>\n",
              "<style scoped>\n",
              "    .dataframe tbody tr th:only-of-type {\n",
              "        vertical-align: middle;\n",
              "    }\n",
              "\n",
              "    .dataframe tbody tr th {\n",
              "        vertical-align: top;\n",
              "    }\n",
              "\n",
              "    .dataframe thead th {\n",
              "        text-align: right;\n",
              "    }\n",
              "</style>\n",
              "<table border=\"1\" class=\"dataframe\">\n",
              "  <thead>\n",
              "    <tr style=\"text-align: right;\">\n",
              "      <th></th>\n",
              "      <th>Quantity</th>\n",
              "      <th>InvoiceDate</th>\n",
              "      <th>UnitPrice</th>\n",
              "    </tr>\n",
              "  </thead>\n",
              "  <tbody>\n",
              "    <tr>\n",
              "      <th>count</th>\n",
              "      <td>40.000000</td>\n",
              "      <td>40</td>\n",
              "      <td>40.0</td>\n",
              "    </tr>\n",
              "    <tr>\n",
              "      <th>mean</th>\n",
              "      <td>347.100000</td>\n",
              "      <td>2011-07-26 08:19:34.500000</td>\n",
              "      <td>0.0</td>\n",
              "    </tr>\n",
              "    <tr>\n",
              "      <th>min</th>\n",
              "      <td>1.000000</td>\n",
              "      <td>2010-12-05 14:02:00</td>\n",
              "      <td>0.0</td>\n",
              "    </tr>\n",
              "    <tr>\n",
              "      <th>25%</th>\n",
              "      <td>1.000000</td>\n",
              "      <td>2011-04-12 05:53:15</td>\n",
              "      <td>0.0</td>\n",
              "    </tr>\n",
              "    <tr>\n",
              "      <th>50%</th>\n",
              "      <td>4.500000</td>\n",
              "      <td>2011-08-26 14:19:00</td>\n",
              "      <td>0.0</td>\n",
              "    </tr>\n",
              "    <tr>\n",
              "      <th>75%</th>\n",
              "      <td>24.000000</td>\n",
              "      <td>2011-11-05 06:16:45</td>\n",
              "      <td>0.0</td>\n",
              "    </tr>\n",
              "    <tr>\n",
              "      <th>max</th>\n",
              "      <td>12540.000000</td>\n",
              "      <td>2011-11-25 15:57:00</td>\n",
              "      <td>0.0</td>\n",
              "    </tr>\n",
              "    <tr>\n",
              "      <th>std</th>\n",
              "      <td>1978.311813</td>\n",
              "      <td>NaN</td>\n",
              "      <td>0.0</td>\n",
              "    </tr>\n",
              "  </tbody>\n",
              "</table>\n",
              "</div>\n",
              "    <div class=\"colab-df-buttons\">\n",
              "\n",
              "  <div class=\"colab-df-container\">\n",
              "    <button class=\"colab-df-convert\" onclick=\"convertToInteractive('df-b365bc7d-5c30-438a-9a97-d738edacdcbd')\"\n",
              "            title=\"Convert this dataframe to an interactive table.\"\n",
              "            style=\"display:none;\">\n",
              "\n",
              "  <svg xmlns=\"http://www.w3.org/2000/svg\" height=\"24px\" viewBox=\"0 -960 960 960\">\n",
              "    <path d=\"M120-120v-720h720v720H120Zm60-500h600v-160H180v160Zm220 220h160v-160H400v160Zm0 220h160v-160H400v160ZM180-400h160v-160H180v160Zm440 0h160v-160H620v160ZM180-180h160v-160H180v160Zm440 0h160v-160H620v160Z\"/>\n",
              "  </svg>\n",
              "    </button>\n",
              "\n",
              "  <style>\n",
              "    .colab-df-container {\n",
              "      display:flex;\n",
              "      gap: 12px;\n",
              "    }\n",
              "\n",
              "    .colab-df-convert {\n",
              "      background-color: #E8F0FE;\n",
              "      border: none;\n",
              "      border-radius: 50%;\n",
              "      cursor: pointer;\n",
              "      display: none;\n",
              "      fill: #1967D2;\n",
              "      height: 32px;\n",
              "      padding: 0 0 0 0;\n",
              "      width: 32px;\n",
              "    }\n",
              "\n",
              "    .colab-df-convert:hover {\n",
              "      background-color: #E2EBFA;\n",
              "      box-shadow: 0px 1px 2px rgba(60, 64, 67, 0.3), 0px 1px 3px 1px rgba(60, 64, 67, 0.15);\n",
              "      fill: #174EA6;\n",
              "    }\n",
              "\n",
              "    .colab-df-buttons div {\n",
              "      margin-bottom: 4px;\n",
              "    }\n",
              "\n",
              "    [theme=dark] .colab-df-convert {\n",
              "      background-color: #3B4455;\n",
              "      fill: #D2E3FC;\n",
              "    }\n",
              "\n",
              "    [theme=dark] .colab-df-convert:hover {\n",
              "      background-color: #434B5C;\n",
              "      box-shadow: 0px 1px 3px 1px rgba(0, 0, 0, 0.15);\n",
              "      filter: drop-shadow(0px 1px 2px rgba(0, 0, 0, 0.3));\n",
              "      fill: #FFFFFF;\n",
              "    }\n",
              "  </style>\n",
              "\n",
              "    <script>\n",
              "      const buttonEl =\n",
              "        document.querySelector('#df-b365bc7d-5c30-438a-9a97-d738edacdcbd button.colab-df-convert');\n",
              "      buttonEl.style.display =\n",
              "        google.colab.kernel.accessAllowed ? 'block' : 'none';\n",
              "\n",
              "      async function convertToInteractive(key) {\n",
              "        const element = document.querySelector('#df-b365bc7d-5c30-438a-9a97-d738edacdcbd');\n",
              "        const dataTable =\n",
              "          await google.colab.kernel.invokeFunction('convertToInteractive',\n",
              "                                                    [key], {});\n",
              "        if (!dataTable) return;\n",
              "\n",
              "        const docLinkHtml = 'Like what you see? Visit the ' +\n",
              "          '<a target=\"_blank\" href=https://colab.research.google.com/notebooks/data_table.ipynb>data table notebook</a>'\n",
              "          + ' to learn more about interactive tables.';\n",
              "        element.innerHTML = '';\n",
              "        dataTable['output_type'] = 'display_data';\n",
              "        await google.colab.output.renderOutput(dataTable, element);\n",
              "        const docLink = document.createElement('div');\n",
              "        docLink.innerHTML = docLinkHtml;\n",
              "        element.appendChild(docLink);\n",
              "      }\n",
              "    </script>\n",
              "  </div>\n",
              "\n",
              "\n",
              "<div id=\"df-2d19fc4d-2007-4cd2-aa0a-822b424112ae\">\n",
              "  <button class=\"colab-df-quickchart\" onclick=\"quickchart('df-2d19fc4d-2007-4cd2-aa0a-822b424112ae')\"\n",
              "            title=\"Suggest charts\"\n",
              "            style=\"display:none;\">\n",
              "\n",
              "<svg xmlns=\"http://www.w3.org/2000/svg\" height=\"24px\"viewBox=\"0 0 24 24\"\n",
              "     width=\"24px\">\n",
              "    <g>\n",
              "        <path d=\"M19 3H5c-1.1 0-2 .9-2 2v14c0 1.1.9 2 2 2h14c1.1 0 2-.9 2-2V5c0-1.1-.9-2-2-2zM9 17H7v-7h2v7zm4 0h-2V7h2v10zm4 0h-2v-4h2v4z\"/>\n",
              "    </g>\n",
              "</svg>\n",
              "  </button>\n",
              "\n",
              "<style>\n",
              "  .colab-df-quickchart {\n",
              "      --bg-color: #E8F0FE;\n",
              "      --fill-color: #1967D2;\n",
              "      --hover-bg-color: #E2EBFA;\n",
              "      --hover-fill-color: #174EA6;\n",
              "      --disabled-fill-color: #AAA;\n",
              "      --disabled-bg-color: #DDD;\n",
              "  }\n",
              "\n",
              "  [theme=dark] .colab-df-quickchart {\n",
              "      --bg-color: #3B4455;\n",
              "      --fill-color: #D2E3FC;\n",
              "      --hover-bg-color: #434B5C;\n",
              "      --hover-fill-color: #FFFFFF;\n",
              "      --disabled-bg-color: #3B4455;\n",
              "      --disabled-fill-color: #666;\n",
              "  }\n",
              "\n",
              "  .colab-df-quickchart {\n",
              "    background-color: var(--bg-color);\n",
              "    border: none;\n",
              "    border-radius: 50%;\n",
              "    cursor: pointer;\n",
              "    display: none;\n",
              "    fill: var(--fill-color);\n",
              "    height: 32px;\n",
              "    padding: 0;\n",
              "    width: 32px;\n",
              "  }\n",
              "\n",
              "  .colab-df-quickchart:hover {\n",
              "    background-color: var(--hover-bg-color);\n",
              "    box-shadow: 0 1px 2px rgba(60, 64, 67, 0.3), 0 1px 3px 1px rgba(60, 64, 67, 0.15);\n",
              "    fill: var(--button-hover-fill-color);\n",
              "  }\n",
              "\n",
              "  .colab-df-quickchart-complete:disabled,\n",
              "  .colab-df-quickchart-complete:disabled:hover {\n",
              "    background-color: var(--disabled-bg-color);\n",
              "    fill: var(--disabled-fill-color);\n",
              "    box-shadow: none;\n",
              "  }\n",
              "\n",
              "  .colab-df-spinner {\n",
              "    border: 2px solid var(--fill-color);\n",
              "    border-color: transparent;\n",
              "    border-bottom-color: var(--fill-color);\n",
              "    animation:\n",
              "      spin 1s steps(1) infinite;\n",
              "  }\n",
              "\n",
              "  @keyframes spin {\n",
              "    0% {\n",
              "      border-color: transparent;\n",
              "      border-bottom-color: var(--fill-color);\n",
              "      border-left-color: var(--fill-color);\n",
              "    }\n",
              "    20% {\n",
              "      border-color: transparent;\n",
              "      border-left-color: var(--fill-color);\n",
              "      border-top-color: var(--fill-color);\n",
              "    }\n",
              "    30% {\n",
              "      border-color: transparent;\n",
              "      border-left-color: var(--fill-color);\n",
              "      border-top-color: var(--fill-color);\n",
              "      border-right-color: var(--fill-color);\n",
              "    }\n",
              "    40% {\n",
              "      border-color: transparent;\n",
              "      border-right-color: var(--fill-color);\n",
              "      border-top-color: var(--fill-color);\n",
              "    }\n",
              "    60% {\n",
              "      border-color: transparent;\n",
              "      border-right-color: var(--fill-color);\n",
              "    }\n",
              "    80% {\n",
              "      border-color: transparent;\n",
              "      border-right-color: var(--fill-color);\n",
              "      border-bottom-color: var(--fill-color);\n",
              "    }\n",
              "    90% {\n",
              "      border-color: transparent;\n",
              "      border-bottom-color: var(--fill-color);\n",
              "    }\n",
              "  }\n",
              "</style>\n",
              "\n",
              "  <script>\n",
              "    async function quickchart(key) {\n",
              "      const quickchartButtonEl =\n",
              "        document.querySelector('#' + key + ' button');\n",
              "      quickchartButtonEl.disabled = true;  // To prevent multiple clicks.\n",
              "      quickchartButtonEl.classList.add('colab-df-spinner');\n",
              "      try {\n",
              "        const charts = await google.colab.kernel.invokeFunction(\n",
              "            'suggestCharts', [key], {});\n",
              "      } catch (error) {\n",
              "        console.error('Error during call to suggestCharts:', error);\n",
              "      }\n",
              "      quickchartButtonEl.classList.remove('colab-df-spinner');\n",
              "      quickchartButtonEl.classList.add('colab-df-quickchart-complete');\n",
              "    }\n",
              "    (() => {\n",
              "      let quickchartButtonEl =\n",
              "        document.querySelector('#df-2d19fc4d-2007-4cd2-aa0a-822b424112ae button');\n",
              "      quickchartButtonEl.style.display =\n",
              "        google.colab.kernel.accessAllowed ? 'block' : 'none';\n",
              "    })();\n",
              "  </script>\n",
              "</div>\n",
              "\n",
              "    </div>\n",
              "  </div>\n"
            ],
            "application/vnd.google.colaboratory.intrinsic+json": {
              "type": "dataframe",
              "summary": "{\n  \"name\": \"data[data['UnitPrice']==0]\",\n  \"rows\": 8,\n  \"fields\": [\n    {\n      \"column\": \"Quantity\",\n      \"properties\": {\n        \"dtype\": \"number\",\n        \"std\": 4365.49476133683,\n        \"min\": 1.0,\n        \"max\": 12540.0,\n        \"num_unique_values\": 7,\n        \"samples\": [\n          40.0,\n          347.1,\n          12540.0\n        ],\n        \"semantic_type\": \"\",\n        \"description\": \"\"\n      }\n    },\n    {\n      \"column\": \"InvoiceDate\",\n      \"properties\": {\n        \"dtype\": \"date\",\n        \"min\": \"1970-01-01 00:00:00.000000040\",\n        \"max\": \"2011-11-25 15:57:00\",\n        \"num_unique_values\": 7,\n        \"samples\": [\n          \"40\",\n          \"2011-07-26 08:19:34.500000\",\n          \"2011-11-05 06:16:45\"\n        ],\n        \"semantic_type\": \"\",\n        \"description\": \"\"\n      }\n    },\n    {\n      \"column\": \"UnitPrice\",\n      \"properties\": {\n        \"dtype\": \"number\",\n        \"std\": 14.142135623730951,\n        \"min\": 0.0,\n        \"max\": 40.0,\n        \"num_unique_values\": 2,\n        \"samples\": [\n          0.0,\n          40.0\n        ],\n        \"semantic_type\": \"\",\n        \"description\": \"\"\n      }\n    }\n  ]\n}"
            }
          },
          "metadata": {},
          "execution_count": 12
        }
      ]
    },
    {
      "cell_type": "code",
      "source": [
        "data=data[data['UnitPrice']!=0]"
      ],
      "metadata": {
        "execution": {
          "iopub.status.busy": "2023-12-25T10:22:55.101216Z",
          "iopub.execute_input": "2023-12-25T10:22:55.101554Z",
          "iopub.status.idle": "2023-12-25T10:22:55.152389Z",
          "shell.execute_reply.started": "2023-12-25T10:22:55.101525Z",
          "shell.execute_reply": "2023-12-25T10:22:55.151345Z"
        },
        "trusted": true,
        "id": "OlJug_jrUF1E"
      },
      "execution_count": 13,
      "outputs": []
    },
    {
      "cell_type": "markdown",
      "source": [
        "The records where UnitPrice equals 0 were removed."
      ],
      "metadata": {
        "id": "xXgREhnJUF1E"
      }
    },
    {
      "cell_type": "markdown",
      "source": [
        "## Removing Cancelled Purchases\n",
        "If the InvoiceNo starts from a letter 'C' that means that the purchase was cancelled. The values of such purchases should not be included in the monetary value when RFM analysis is performed. There are 8,905 records where InvoiceNo starts from 'C'."
      ],
      "metadata": {
        "id": "IYIH7IMmUF1E"
      }
    },
    {
      "cell_type": "code",
      "source": [
        "len(data[data['InvoiceNo'].str.startswith('C')])\n"
      ],
      "metadata": {
        "execution": {
          "iopub.status.busy": "2023-12-25T10:22:55.155901Z",
          "iopub.execute_input": "2023-12-25T10:22:55.156258Z",
          "iopub.status.idle": "2023-12-25T10:22:55.315151Z",
          "shell.execute_reply.started": "2023-12-25T10:22:55.156228Z",
          "shell.execute_reply": "2023-12-25T10:22:55.314031Z"
        },
        "trusted": true,
        "id": "hZVXKPO4UF1E"
      },
      "execution_count": null,
      "outputs": []
    },
    {
      "cell_type": "code",
      "source": [
        "data = data[~data['InvoiceNo'].str.startswith('C')]\n"
      ],
      "metadata": {
        "execution": {
          "iopub.status.busy": "2023-12-25T10:22:55.316396Z",
          "iopub.execute_input": "2023-12-25T10:22:55.316738Z",
          "iopub.status.idle": "2023-12-25T10:22:55.499638Z",
          "shell.execute_reply.started": "2023-12-25T10:22:55.316708Z",
          "shell.execute_reply": "2023-12-25T10:22:55.498618Z"
        },
        "trusted": true,
        "id": "4-ePvo8GUF1E"
      },
      "execution_count": null,
      "outputs": []
    },
    {
      "cell_type": "markdown",
      "source": [
        "Now the data does not contain cancelled purchases."
      ],
      "metadata": {
        "id": "QQ084A9fUF1E"
      }
    },
    {
      "cell_type": "markdown",
      "source": [
        "# RFM Analysis\n",
        "\n",
        "## RFM Framework\n",
        "\n",
        "There are multiple approaches for RFM segmentation.\n",
        "I will use the RFM framework with assignment of scores from 1 to 3 for each (Recency, Frequency, Monetary). Based on the assigned score the below customer segments are defined:\n",
        "\n",
        "| Segment name | RFM score breakouts | Description |\n",
        "|------------|--------------------------------------|-------------|\n",
        "| Champions  | 333, 332, 323                       | The best customers  |\n",
        "| Loyal      | 321, 322, 331, 232, 233               | Valuable customers that are engaged |\n",
        "| Recent     | 312, 313, 311, 222, 223               | Recent customers  |\n",
        "| Needs attention | 213, 221, 123, 132, 133          | A valuable customer that has not purchased recently |\n",
        "| At risk    | 231, 212, 122, 131, 211               | A customer that has not purchased recently and/or tends to spend less overall |\n",
        "| Inactive   | 111, 112, 113, 121                   | A lapsed customer  |\n",
        "\n",
        "## Calculating Recency, Frequency and Monetary Values\n",
        "\n",
        "<b> Recency </b> is the number of days since the last purchase made by a customer. To calculate Recency, we need calculated how many days passed from the current date to the date of the last purchase. Thus, we need to define the current date. The data contains purchases from 2010 and 2011. The maximum data available in the dataset is 2011-12-09. Let's assume the analysis is performed 2 days after the last purchase. We take 2 days to avoid zeros in Recency.  "
      ],
      "metadata": {
        "id": "RsSFXSenUF1E"
      }
    },
    {
      "cell_type": "code",
      "source": [
        "print(data['InvoiceDate'].max())\n",
        "current_date = dt.datetime(2011,12,11)"
      ],
      "metadata": {
        "execution": {
          "iopub.status.busy": "2023-12-25T10:22:55.501064Z",
          "iopub.execute_input": "2023-12-25T10:22:55.501453Z",
          "iopub.status.idle": "2023-12-25T10:22:55.509729Z",
          "shell.execute_reply.started": "2023-12-25T10:22:55.50142Z",
          "shell.execute_reply": "2023-12-25T10:22:55.508633Z"
        },
        "trusted": true,
        "id": "Ed2jBBA-UF1E"
      },
      "execution_count": null,
      "outputs": []
    },
    {
      "cell_type": "markdown",
      "source": [
        "<b> Frequency </b> shows how often a customer purchases from the company within the report’s time frame. To calculate Frequency, we will calculate number of unique invoices for each CustomerID.\n",
        "\n",
        "<b> Monetary </b> is the total cost spend on purchases by every customer. Before calculating the Monetary, we need to calculate total cost by multiplying number of UtitPrice and Quantity."
      ],
      "metadata": {
        "id": "ufLPqsyFUF1E"
      }
    },
    {
      "cell_type": "code",
      "source": [
        "data['TotalCost'] = data['Quantity'] * data['UnitPrice']"
      ],
      "metadata": {
        "execution": {
          "iopub.status.busy": "2023-12-25T10:22:55.51128Z",
          "iopub.execute_input": "2023-12-25T10:22:55.511835Z",
          "iopub.status.idle": "2023-12-25T10:22:55.52419Z",
          "shell.execute_reply.started": "2023-12-25T10:22:55.511788Z",
          "shell.execute_reply": "2023-12-25T10:22:55.522894Z"
        },
        "trusted": true,
        "id": "5Jn8XFvtUF1F"
      },
      "execution_count": null,
      "outputs": []
    },
    {
      "cell_type": "code",
      "source": [
        "rfm = data.groupby(\"CustomerID\").agg({\"InvoiceDate\" : lambda InvoiceDate :(current_date - InvoiceDate.max()).days,  # Recency\n",
        "                                     \"InvoiceNo\" : lambda InvoiceNo: InvoiceNo.nunique(),  # Frequency\n",
        "                                     \"TotalCost\":  lambda TotalCost: TotalCost.sum()})    # Monetary\n",
        "rfm.columns = ['Recency', 'Frequency', 'Monetary']\n",
        "rfm.head()"
      ],
      "metadata": {
        "execution": {
          "iopub.status.busy": "2023-12-25T10:22:55.525581Z",
          "iopub.execute_input": "2023-12-25T10:22:55.526518Z",
          "iopub.status.idle": "2023-12-25T10:22:56.958709Z",
          "shell.execute_reply.started": "2023-12-25T10:22:55.52648Z",
          "shell.execute_reply": "2023-12-25T10:22:56.957488Z"
        },
        "trusted": true,
        "id": "Fh1xf0hRUF1F"
      },
      "execution_count": null,
      "outputs": []
    },
    {
      "cell_type": "markdown",
      "source": [
        "## Exploratory Analysis of RFM Features\n"
      ],
      "metadata": {
        "id": "K8_dIXpwUF1F"
      }
    },
    {
      "cell_type": "code",
      "source": [
        "rfm.describe()"
      ],
      "metadata": {
        "execution": {
          "iopub.status.busy": "2023-12-25T10:22:56.961525Z",
          "iopub.execute_input": "2023-12-25T10:22:56.961885Z",
          "iopub.status.idle": "2023-12-25T10:22:56.985533Z",
          "shell.execute_reply.started": "2023-12-25T10:22:56.961848Z",
          "shell.execute_reply": "2023-12-25T10:22:56.984401Z"
        },
        "trusted": true,
        "id": "MnAGMC2nUF1F"
      },
      "execution_count": null,
      "outputs": []
    },
    {
      "cell_type": "markdown",
      "source": [
        "### Distributions"
      ],
      "metadata": {
        "id": "G73BwUnKUF1F"
      }
    },
    {
      "cell_type": "code",
      "source": [
        "plt.figure(figsize=(6, 4))\n",
        "sns.histplot(data=rfm, x='Recency', bins=30, kde=True)\n",
        "plt.title('Histogram for Recency')\n",
        "plt.xlabel('Recency')\n",
        "plt.ylabel('Num of occurrences')\n",
        "plt.show()"
      ],
      "metadata": {
        "execution": {
          "iopub.status.busy": "2023-12-25T10:22:56.986885Z",
          "iopub.execute_input": "2023-12-25T10:22:56.987277Z",
          "iopub.status.idle": "2023-12-25T10:22:57.406592Z",
          "shell.execute_reply.started": "2023-12-25T10:22:56.987244Z",
          "shell.execute_reply": "2023-12-25T10:22:57.405275Z"
        },
        "trusted": true,
        "id": "x51VOBtiUF1F"
      },
      "execution_count": null,
      "outputs": []
    },
    {
      "cell_type": "code",
      "source": [
        "plt.figure(figsize=(6, 4))\n",
        "sns.histplot(data=rfm, x='Frequency', bins=30, kde=True)\n",
        "plt.title('Histogram for Frequency')\n",
        "plt.xlabel('Frequency')\n",
        "plt.ylabel('Num of occurrences')\n",
        "plt.show()"
      ],
      "metadata": {
        "execution": {
          "iopub.status.busy": "2023-12-25T10:22:57.408379Z",
          "iopub.execute_input": "2023-12-25T10:22:57.408804Z",
          "iopub.status.idle": "2023-12-25T10:22:57.804672Z",
          "shell.execute_reply.started": "2023-12-25T10:22:57.408763Z",
          "shell.execute_reply": "2023-12-25T10:22:57.803451Z"
        },
        "trusted": true,
        "id": "9C1gBJ9_UF1F"
      },
      "execution_count": null,
      "outputs": []
    },
    {
      "cell_type": "code",
      "source": [
        "plt.figure(figsize=(6, 4))\n",
        "sns.histplot(data=rfm, x='Monetary', bins=30, kde=True)\n",
        "plt.title('Histogram for Monetary')\n",
        "plt.xlabel('Monetary')\n",
        "plt.ylabel('Num of occurrences')\n",
        "plt.show()"
      ],
      "metadata": {
        "execution": {
          "iopub.status.busy": "2023-12-25T10:22:57.806083Z",
          "iopub.execute_input": "2023-12-25T10:22:57.806419Z",
          "iopub.status.idle": "2023-12-25T10:22:58.218899Z",
          "shell.execute_reply.started": "2023-12-25T10:22:57.806388Z",
          "shell.execute_reply": "2023-12-25T10:22:58.217905Z"
        },
        "trusted": true,
        "id": "UUugl4onUF1F"
      },
      "execution_count": null,
      "outputs": []
    },
    {
      "cell_type": "markdown",
      "source": [
        "### Correlation"
      ],
      "metadata": {
        "id": "9lgXWXmgUF1F"
      }
    },
    {
      "cell_type": "code",
      "source": [
        "corr_matrix = rfm[['Recency', 'Frequency', 'Monetary']].corr()\n",
        "plt.figure(figsize=(4,4))\n",
        "sns.heatmap(corr_matrix, annot=True, cmap='coolwarm', linewidths=0.5)\n",
        "plt.title('Correlation Matrix Heatmap')\n",
        "plt.show()"
      ],
      "metadata": {
        "execution": {
          "iopub.status.busy": "2023-12-25T10:22:58.220218Z",
          "iopub.execute_input": "2023-12-25T10:22:58.220636Z",
          "iopub.status.idle": "2023-12-25T10:22:58.523314Z",
          "shell.execute_reply.started": "2023-12-25T10:22:58.220607Z",
          "shell.execute_reply": "2023-12-25T10:22:58.521808Z"
        },
        "trusted": true,
        "id": "F71wLWujUF1F"
      },
      "execution_count": null,
      "outputs": []
    },
    {
      "cell_type": "markdown",
      "source": [
        "There is a moderate correlation between Frequency and Monetary. This correlation is expected, as customers tend to spend more when they make purchases more frequently."
      ],
      "metadata": {
        "id": "d1IM0PItUF1F"
      }
    },
    {
      "cell_type": "markdown",
      "source": [
        "### Box Plots"
      ],
      "metadata": {
        "id": "4wHcdhVRUF1J"
      }
    },
    {
      "cell_type": "code",
      "source": [
        "plt.figure(figsize=(6, 4))\n",
        "sns.boxplot(data = rfm, y='Recency')\n",
        "plt.title('Box Plot for Recency')\n",
        "plt.ylabel('Recency')\n",
        "plt.show()"
      ],
      "metadata": {
        "execution": {
          "iopub.status.busy": "2023-12-25T10:22:58.525063Z",
          "iopub.execute_input": "2023-12-25T10:22:58.525549Z",
          "iopub.status.idle": "2023-12-25T10:22:58.760814Z",
          "shell.execute_reply.started": "2023-12-25T10:22:58.52551Z",
          "shell.execute_reply": "2023-12-25T10:22:58.759485Z"
        },
        "trusted": true,
        "id": "zw4HlXJ9UF1J"
      },
      "execution_count": null,
      "outputs": []
    },
    {
      "cell_type": "code",
      "source": [
        "plt.figure(figsize=(6, 4))\n",
        "sns.boxplot(data = rfm, y='Frequency')\n",
        "plt.title('Box Plot for Frequency')\n",
        "plt.ylabel('Frequency')\n",
        "plt.show()"
      ],
      "metadata": {
        "execution": {
          "iopub.status.busy": "2023-12-25T10:22:58.762613Z",
          "iopub.execute_input": "2023-12-25T10:22:58.763007Z",
          "iopub.status.idle": "2023-12-25T10:22:59.109169Z",
          "shell.execute_reply.started": "2023-12-25T10:22:58.762961Z",
          "shell.execute_reply": "2023-12-25T10:22:59.108119Z"
        },
        "trusted": true,
        "id": "igD2i0g6UF1J"
      },
      "execution_count": null,
      "outputs": []
    },
    {
      "cell_type": "code",
      "source": [
        "plt.figure(figsize=(6, 4))\n",
        "sns.boxplot(data = rfm, y='Monetary')\n",
        "plt.title('Box Plot for Monetary')\n",
        "plt.ylabel('Monetary')\n",
        "plt.show()"
      ],
      "metadata": {
        "execution": {
          "iopub.status.busy": "2023-12-25T10:22:59.110813Z",
          "iopub.execute_input": "2023-12-25T10:22:59.111172Z",
          "iopub.status.idle": "2023-12-25T10:22:59.327761Z",
          "shell.execute_reply.started": "2023-12-25T10:22:59.111143Z",
          "shell.execute_reply": "2023-12-25T10:22:59.326493Z"
        },
        "trusted": true,
        "id": "S139kH-wUF1J"
      },
      "execution_count": null,
      "outputs": []
    },
    {
      "cell_type": "markdown",
      "source": [
        "Recency, Frequency, and Monetary features have a lot of outliers. The outliers may make segmentation process more difficult."
      ],
      "metadata": {
        "id": "iIPO0kanUF1J"
      }
    },
    {
      "cell_type": "markdown",
      "source": [
        "## Assigning RFM Scores"
      ],
      "metadata": {
        "id": "a1Leh5m-UF1J"
      }
    },
    {
      "cell_type": "markdown",
      "source": [
        "There are multiple approaches for RFM segmentation.\n",
        "I will use the RFM framework with assignment of scores from 1 to 3 for each (Recency, Frequency, Monetary). 3 is the best/highest value, and 1 is the lowest/worst value.\n",
        "\n",
        "A final RFM score is calculated simply by combining individual RFM score numbers.  \n",
        "The RFM segments will be defined using the below table   \n",
        "\n",
        "| Segment name | RFM score breakouts | Description |\n",
        "|------------|--------------------------------------|-------------|\n",
        "| Champions  | 333, 332, 323                       | The best customers  |\n",
        "| Loyal      | 321, 322, 331, 232, 233               | Valuable customers that are engaged |\n",
        "| Recent     | 312, 313, 311, 222, 223               | Recent customers  |\n",
        "| Needs attention | 213, 221, 123, 132, 133          | A valuable customer that has not purchased recently |\n",
        "| At risk    | 231, 212, 122, 131, 211               | A customer that has not purchased recently and/or tends to spend less overall |\n",
        "| Inactive   | 111, 112, 113, 121                   | A lapsed customer  |"
      ],
      "metadata": {
        "id": "IaUuq27YUF1J"
      }
    },
    {
      "cell_type": "code",
      "source": [
        "rfm[\"Recency_Score\"]  = pd.qcut(rfm['Recency'], 3, [3, 2, 1])\n",
        "rfm[\"Frequency_Score\"]  = pd.qcut(rfm['Frequency'].rank(method=\"first\"), 3, [1, 2, 3])\n",
        "rfm[\"Monetary_Score\"]  = pd.qcut(rfm['Monetary'], 3, [1, 2, 3])\n",
        "rfm[\"RFM_Score\"] = rfm[\"Recency_Score\"].astype(str) + rfm[\"Frequency_Score\"].astype(str) + rfm[\"Monetary_Score\"].astype(str)\n",
        "rfm.head()"
      ],
      "metadata": {
        "execution": {
          "iopub.status.busy": "2023-12-25T10:22:59.329422Z",
          "iopub.execute_input": "2023-12-25T10:22:59.330127Z",
          "iopub.status.idle": "2023-12-25T10:22:59.360975Z",
          "shell.execute_reply.started": "2023-12-25T10:22:59.330082Z",
          "shell.execute_reply": "2023-12-25T10:22:59.359766Z"
        },
        "trusted": true,
        "id": "LYQcM9TBUF1J"
      },
      "execution_count": null,
      "outputs": []
    },
    {
      "cell_type": "markdown",
      "source": [
        "## RFM Segmentation\n"
      ],
      "metadata": {
        "id": "JEoF43ZYUF1J"
      }
    },
    {
      "cell_type": "code",
      "source": [
        "def segment_customers(rfm_score):\n",
        "    if rfm_score in ['333', '332', '323']:\n",
        "        return 'Champions'\n",
        "    elif rfm_score in ['321', '322', '331', '232', '233']:\n",
        "        return 'Loyal'\n",
        "    elif rfm_score in ['312', '313', '311', '222', '223']:\n",
        "        return 'Recent'\n",
        "    elif rfm_score in ['213', '221', '123', '132', '133']:\n",
        "        return 'Needs attention'\n",
        "    elif rfm_score in ['231', '212', '122', '131', '211']:\n",
        "        return 'At risk'\n",
        "    elif rfm_score in ['111', '112', '113', '121']:\n",
        "        return 'Inactive'\n",
        "\n",
        "rfm['Segment'] = rfm['RFM_Score'].apply(segment_customers)\n",
        "rfm.info()"
      ],
      "metadata": {
        "execution": {
          "iopub.status.busy": "2023-12-25T10:22:59.362605Z",
          "iopub.execute_input": "2023-12-25T10:22:59.363109Z",
          "iopub.status.idle": "2023-12-25T10:22:59.388565Z",
          "shell.execute_reply.started": "2023-12-25T10:22:59.363062Z",
          "shell.execute_reply": "2023-12-25T10:22:59.387326Z"
        },
        "trusted": true,
        "id": "TW1S7UHJUF1J"
      },
      "execution_count": null,
      "outputs": []
    },
    {
      "cell_type": "code",
      "source": [
        "rfm.reset_index(inplace=True)\n",
        "rfm.groupby('Segment').agg({'CustomerID':'count'})"
      ],
      "metadata": {
        "execution": {
          "iopub.status.busy": "2023-12-25T10:22:59.390332Z",
          "iopub.execute_input": "2023-12-25T10:22:59.391222Z",
          "iopub.status.idle": "2023-12-25T10:22:59.405772Z",
          "shell.execute_reply.started": "2023-12-25T10:22:59.391186Z",
          "shell.execute_reply": "2023-12-25T10:22:59.404449Z"
        },
        "trusted": true,
        "id": "1C5inPmmUF1J"
      },
      "execution_count": null,
      "outputs": []
    },
    {
      "cell_type": "markdown",
      "source": [
        "## Analysis of Segments"
      ],
      "metadata": {
        "id": "g18SwmIfUF1J"
      }
    },
    {
      "cell_type": "markdown",
      "source": [
        "### Statistical characteristics of the segments"
      ],
      "metadata": {
        "id": "Jf0f1iDBUF1J"
      }
    },
    {
      "cell_type": "code",
      "source": [
        "rfm_stats = rfm[['Recency','Frequency','Monetary','Segment']].groupby('Segment').agg({'mean','std','max','min'})\n",
        "format_rules = {\n",
        "    ('Recency', 'mean'): '{:.2f}',\n",
        "    ('Recency', 'std'): '{:.2f}',\n",
        "    ('Recency', 'max'): '{:.0f}',\n",
        "    ('Recency', 'min'): '{:.0f}',\n",
        "    ('Monetary', 'mean'): '£{:,.2f}',\n",
        "    ('Monetary', 'std'): '£{:,.2f}',\n",
        "    ('Monetary', 'max'): '£{:,.0f}',\n",
        "    ('Monetary', 'min'): '£{:,.0f}',\n",
        "    ('Frequency', 'mean'): '{:.2f}',\n",
        "    ('Frequency', 'std'): '{:.2f}',\n",
        "    ('Frequency', 'max'): '{:.0f}',\n",
        "    ('Frequency', 'min'): '{:.0f}',\n",
        "}\n",
        "table_styles = [\n",
        "    {'selector': 'th.col_heading', 'props': 'text-align: center;'},\n",
        "    {'selector': 'th.col_heading.level0', 'props': 'font-size: 1.2em;'}\n",
        "]\n",
        "\n",
        "rfm_stats_style = rfm_stats.style.format(format_rules)\n",
        "rfm_stats_style = rfm_stats_style.set_table_styles(table_styles)\n",
        "rfm_stats_style = rfm_stats_style.set_table_styles(\n",
        "    {('Monetary', 'std'): [{'selector': 'th', 'props': 'border-left: 1px solid black'},\n",
        "                            {'selector': 'td', 'props': 'border-left: 1px solid black'}\n",
        "                          ],\n",
        "    ('Frequency', 'std'): [{'selector': 'th', 'props': 'border-left: 1px solid black'},\n",
        "                            {'selector': 'td', 'props': 'border-left: 1px solid black'}\n",
        "                          ]\n",
        "    },\n",
        "    overwrite = False,\n",
        "    axis=0)\n",
        "rfm_stats_style\n"
      ],
      "metadata": {
        "execution": {
          "iopub.status.busy": "2023-12-25T10:22:59.407394Z",
          "iopub.execute_input": "2023-12-25T10:22:59.407917Z",
          "iopub.status.idle": "2023-12-25T10:22:59.530154Z",
          "shell.execute_reply.started": "2023-12-25T10:22:59.407886Z",
          "shell.execute_reply": "2023-12-25T10:22:59.528965Z"
        },
        "trusted": true,
        "id": "OnjXLWR7UF1J"
      },
      "execution_count": null,
      "outputs": []
    },
    {
      "cell_type": "markdown",
      "source": [
        "### Number of Customers per Segment"
      ],
      "metadata": {
        "id": "bx4kObKPUF1J"
      }
    },
    {
      "cell_type": "code",
      "source": [
        "plt.figure(figsize = (16, 8))\n",
        "ax = sns.countplot(data = rfm,\n",
        "                   x = 'Segment',\n",
        "                   palette = 'hls')\n",
        "total = len(rfm.Segment)\n",
        "for patch in ax.patches:\n",
        "    percentage = '{:.1f}%'.format(100 * patch.get_height()/total)\n",
        "    x = patch.get_x() + patch.get_width() / 2 - 0.17\n",
        "    y = patch.get_y() + patch.get_height() * 1.005\n",
        "    ax.annotate(percentage, (x, y), size = 14)\n",
        "plt.title('Number of Customers per Segment', size = 20)\n",
        "plt.xlabel('Segment', size = 16)\n",
        "plt.ylabel('Count', size = 16)\n",
        "plt.xticks(size = 10)\n",
        "plt.yticks(size = 10)\n",
        "plt.show()"
      ],
      "metadata": {
        "execution": {
          "iopub.status.busy": "2023-12-25T10:22:59.531318Z",
          "iopub.execute_input": "2023-12-25T10:22:59.531822Z",
          "iopub.status.idle": "2023-12-25T10:22:59.878406Z",
          "shell.execute_reply.started": "2023-12-25T10:22:59.531791Z",
          "shell.execute_reply": "2023-12-25T10:22:59.877056Z"
        },
        "trusted": true,
        "id": "lD3KPcOyUF1K"
      },
      "execution_count": null,
      "outputs": []
    },
    {
      "cell_type": "markdown",
      "source": [
        "### Recency and Frequency by Segment"
      ],
      "metadata": {
        "id": "xLmcZv1XUF1K"
      }
    },
    {
      "cell_type": "code",
      "source": [
        "plt.figure(figsize=(18, 8))\n",
        "sns.scatterplot(\n",
        "    data=rfm, x=\"Recency\", y=\"Frequency\", hue=\"Segment\", palette='tab10', s=60\n",
        ")\n",
        "plt.title(\"Recency and Frequency by Segment\", size=16)\n",
        "plt.xlabel(\"Recency\", size=12)\n",
        "plt.ylabel(\"Frequency\", size=12)\n",
        "plt.xticks(size=10)\n",
        "plt.yticks(size=10)\n",
        "plt.legend(loc=\"best\", fontsize=12, title=\"Segments\", title_fontsize=14)\n",
        "plt.ylim(0, 30)  #the axis needs limiting because of the high number of outliers\n",
        "plt.show()"
      ],
      "metadata": {
        "execution": {
          "iopub.status.busy": "2023-12-25T10:22:59.886249Z",
          "iopub.execute_input": "2023-12-25T10:22:59.886696Z",
          "iopub.status.idle": "2023-12-25T10:23:00.582626Z",
          "shell.execute_reply.started": "2023-12-25T10:22:59.886662Z",
          "shell.execute_reply": "2023-12-25T10:23:00.581026Z"
        },
        "trusted": true,
        "id": "Y1T3kGLuUF1K"
      },
      "execution_count": null,
      "outputs": []
    },
    {
      "cell_type": "markdown",
      "source": [
        "- Some 'At risk' and 'Inactive' customers are mixed together\n",
        "- Some 'Recent', 'Needs attention' and 'At risk' customers are mixed together"
      ],
      "metadata": {
        "id": "CeztyBlqUF1K"
      }
    },
    {
      "cell_type": "markdown",
      "source": [
        "### Recency and Monetary by Segment"
      ],
      "metadata": {
        "id": "0EeimOuaUF1K"
      }
    },
    {
      "cell_type": "code",
      "source": [
        "plt.figure(figsize=(18, 8))\n",
        "sns.scatterplot(\n",
        "    data=rfm, x=\"Recency\", y=\"Monetary\", hue=\"Segment\", palette='tab10', s=60\n",
        ")\n",
        "plt.title(\"Recency and Monetary by Segment\", size=16)\n",
        "plt.xlabel(\"Recency\", size=12)\n",
        "plt.ylabel(\"Monetary\", size=12)\n",
        "plt.xticks(size=10)\n",
        "plt.yticks(size=10)\n",
        "plt.legend(loc=\"best\", fontsize=12, title=\"Segments\", title_fontsize=14)\n",
        "plt.ylim(0, 10000) # the axis needs limiting because of the high number of outliers\n",
        "plt.show()"
      ],
      "metadata": {
        "execution": {
          "iopub.status.busy": "2023-12-25T10:23:00.584467Z",
          "iopub.execute_input": "2023-12-25T10:23:00.58525Z",
          "iopub.status.idle": "2023-12-25T10:23:01.311611Z",
          "shell.execute_reply.started": "2023-12-25T10:23:00.585203Z",
          "shell.execute_reply": "2023-12-25T10:23:01.310363Z"
        },
        "trusted": true,
        "id": "iocIIarKUF1K"
      },
      "execution_count": null,
      "outputs": []
    },
    {
      "cell_type": "markdown",
      "source": [
        "- Some 'At risk' and 'Inactive' customers are mixed together\n",
        "- Some 'Recent', 'Needs attention' and 'At risk' customers are mixed together\n",
        "Similar observations were on the Recency and Frequency scatter plot."
      ],
      "metadata": {
        "id": "kk5dFATQUF1K"
      }
    },
    {
      "cell_type": "markdown",
      "source": [
        "### Box Plots for Segments"
      ],
      "metadata": {
        "id": "c4DKBQMyUF1K"
      }
    },
    {
      "cell_type": "code",
      "source": [
        "plt.figure(figsize=(8, 4))\n",
        "sns.boxplot(x='Segment', y='Recency', data=rfm, palette='hls')\n",
        "plt.title('Recency by Segments')\n",
        "plt.xlabel('Segment')\n",
        "plt.ylabel('Recency')\n",
        "plt.show()"
      ],
      "metadata": {
        "execution": {
          "iopub.status.busy": "2023-12-25T10:23:01.313429Z",
          "iopub.execute_input": "2023-12-25T10:23:01.314224Z",
          "iopub.status.idle": "2023-12-25T10:23:01.650274Z",
          "shell.execute_reply.started": "2023-12-25T10:23:01.314179Z",
          "shell.execute_reply": "2023-12-25T10:23:01.649049Z"
        },
        "trusted": true,
        "id": "LEJ3SzTwUF1K"
      },
      "execution_count": null,
      "outputs": []
    },
    {
      "cell_type": "code",
      "source": [
        "plt.figure(figsize=(8, 4))\n",
        "sns.boxplot(x='Segment', y='Frequency', data=rfm, palette='hls')\n",
        "plt.title('Frequency by Segments')\n",
        "plt.xlabel('Segment')\n",
        "plt.ylabel('Frequency')\n",
        "plt.ylim(0, 30)  #the axis needs limiting because of the high number of outliers\n",
        "plt.show()"
      ],
      "metadata": {
        "execution": {
          "iopub.status.busy": "2023-12-25T10:23:01.652249Z",
          "iopub.execute_input": "2023-12-25T10:23:01.653066Z",
          "iopub.status.idle": "2023-12-25T10:23:01.96587Z",
          "shell.execute_reply.started": "2023-12-25T10:23:01.653016Z",
          "shell.execute_reply": "2023-12-25T10:23:01.964693Z"
        },
        "trusted": true,
        "id": "ytfpHERjUF1K"
      },
      "execution_count": null,
      "outputs": []
    },
    {
      "cell_type": "code",
      "source": [
        "plt.figure(figsize=(8, 4))\n",
        "sns.boxplot(x='Segment', y='Monetary', data=rfm, palette='hls')\n",
        "plt.title('Monetary by Segments')\n",
        "plt.xlabel('Segment')\n",
        "plt.ylabel('Monetary')\n",
        "plt.ylim(0, 10000) # the axis needs limiting because of the high number of outliers\n",
        "plt.show()\n"
      ],
      "metadata": {
        "execution": {
          "iopub.status.busy": "2023-12-25T10:23:01.967748Z",
          "iopub.execute_input": "2023-12-25T10:23:01.968474Z",
          "iopub.status.idle": "2023-12-25T10:23:02.304862Z",
          "shell.execute_reply.started": "2023-12-25T10:23:01.968428Z",
          "shell.execute_reply": "2023-12-25T10:23:02.303716Z"
        },
        "trusted": true,
        "id": "G03-nzzUUF1K"
      },
      "execution_count": null,
      "outputs": []
    },
    {
      "cell_type": "markdown",
      "source": [
        "# K-Means Clustering\n",
        "K-Means clustering is a very common unsupervised learning algorithm. It scales to very large datasets and tends to work well in practice. The K-Means clustering algorithm tries to find the best way of grouping data points into k different groups, where k is a parameter given to the algorithm.  \n",
        "In this section I will use elbow method and silhouette score to determine the optimal number of clusters for Recency, Frequency and Monetary.  "
      ],
      "metadata": {
        "id": "EFL7uA1AUF1K"
      }
    },
    {
      "cell_type": "markdown",
      "source": [
        "## Log Transformation\n",
        "Recency, Frequency and Monetary values have right-skewed distributions. K-means clustering works well with symmetric distribution of variables."
      ],
      "metadata": {
        "id": "28V67ehfUF1K"
      }
    },
    {
      "cell_type": "code",
      "source": [
        "cols_for_clustering = ['Recency', 'Frequency', 'Monetary']\n",
        "rfm_log = rfm.copy()\n",
        "rfm_log[cols_for_clustering] = rfm[cols_for_clustering].apply(np.log1p)\n",
        "rfm_log.describe()"
      ],
      "metadata": {
        "execution": {
          "iopub.status.busy": "2023-12-25T10:23:02.306706Z",
          "iopub.execute_input": "2023-12-25T10:23:02.307436Z",
          "iopub.status.idle": "2023-12-25T10:23:02.336265Z",
          "shell.execute_reply.started": "2023-12-25T10:23:02.307385Z",
          "shell.execute_reply": "2023-12-25T10:23:02.335037Z"
        },
        "trusted": true,
        "id": "yR_6e2BAUF1K"
      },
      "execution_count": null,
      "outputs": []
    },
    {
      "cell_type": "code",
      "source": [
        "plt.figure(figsize=(6, 4))\n",
        "sns.histplot(data=rfm_log, x='Recency', bins=30, kde=True)\n",
        "plt.title('Histogram for Recency (Log)')\n",
        "plt.xlabel('Recency')\n",
        "plt.ylabel('Num of occurrences')\n",
        "plt.show()"
      ],
      "metadata": {
        "execution": {
          "iopub.status.busy": "2023-12-25T10:23:02.337859Z",
          "iopub.execute_input": "2023-12-25T10:23:02.338226Z",
          "iopub.status.idle": "2023-12-25T10:23:02.736645Z",
          "shell.execute_reply.started": "2023-12-25T10:23:02.338196Z",
          "shell.execute_reply": "2023-12-25T10:23:02.735456Z"
        },
        "trusted": true,
        "id": "GWFvKPxDUF1K"
      },
      "execution_count": null,
      "outputs": []
    },
    {
      "cell_type": "code",
      "source": [
        "plt.figure(figsize=(6, 4))\n",
        "sns.histplot(data=rfm_log, x='Frequency', bins=30, kde=True)\n",
        "plt.title('Histogram for Frequency (Log)')\n",
        "plt.xlabel('Frequency')\n",
        "plt.ylabel('Num of occurrences')\n",
        "plt.show()"
      ],
      "metadata": {
        "execution": {
          "iopub.status.busy": "2023-12-25T10:23:02.738701Z",
          "iopub.execute_input": "2023-12-25T10:23:02.739197Z",
          "iopub.status.idle": "2023-12-25T10:23:03.130294Z",
          "shell.execute_reply.started": "2023-12-25T10:23:02.73915Z",
          "shell.execute_reply": "2023-12-25T10:23:03.129127Z"
        },
        "trusted": true,
        "id": "o4YvIkl8UF1K"
      },
      "execution_count": null,
      "outputs": []
    },
    {
      "cell_type": "code",
      "source": [
        "plt.figure(figsize=(6, 4))\n",
        "sns.histplot(data=rfm_log, x='Monetary', bins=30, kde=True)\n",
        "plt.title('Histogram for Monetary (Log)')\n",
        "plt.xlabel('Monetary')\n",
        "plt.ylabel('Num of occurrences')\n",
        "plt.show()"
      ],
      "metadata": {
        "execution": {
          "iopub.status.busy": "2023-12-25T10:23:03.132149Z",
          "iopub.execute_input": "2023-12-25T10:23:03.132486Z",
          "iopub.status.idle": "2023-12-25T10:23:03.507893Z",
          "shell.execute_reply.started": "2023-12-25T10:23:03.132457Z",
          "shell.execute_reply": "2023-12-25T10:23:03.506668Z"
        },
        "trusted": true,
        "id": "GJtS75n7UF1L"
      },
      "execution_count": null,
      "outputs": []
    },
    {
      "cell_type": "markdown",
      "source": [
        "## Standardising Data\n",
        "K-Means clustering relies on distances between data points to assign them to clusters. If features have different scales, the algorithm may give more weight to features with larger scales, leading to biased cluster assignments. RobustScaler scales the data based on the interquartile range (IQR) to handle outliers. Recency, Frequency and Monetary features have many outliers therefore RobustScaler may be a good choice."
      ],
      "metadata": {
        "id": "06_SeHVLUF1L"
      }
    },
    {
      "cell_type": "code",
      "source": [
        "scaler = RobustScaler()\n",
        "rfm_scaled = rfm_log.copy()\n",
        "rfm_scaled[cols_for_clustering] = scaler.fit_transform(rfm_log[cols_for_clustering])\n",
        "rfm_scaled[cols_for_clustering].describe()"
      ],
      "metadata": {
        "execution": {
          "iopub.status.busy": "2023-12-25T10:23:03.509742Z",
          "iopub.execute_input": "2023-12-25T10:23:03.510515Z",
          "iopub.status.idle": "2023-12-25T10:23:03.544871Z",
          "shell.execute_reply.started": "2023-12-25T10:23:03.510474Z",
          "shell.execute_reply": "2023-12-25T10:23:03.543616Z"
        },
        "trusted": true,
        "id": "-757TH1vUF1L"
      },
      "execution_count": null,
      "outputs": []
    },
    {
      "cell_type": "markdown",
      "source": [
        "## Elbow Method\n",
        "\n",
        "The elbow method is a technique that helps to determine the optimal number of clusters (K) for K-means clustering algorithm."
      ],
      "metadata": {
        "id": "H54HsJA-UF1L"
      }
    },
    {
      "cell_type": "code",
      "source": [
        "X = rfm_scaled[cols_for_clustering]\n",
        "inertia_list = []\n",
        "for K in range(2,10):\n",
        "    inertia = KMeans(n_clusters=K, random_state=7).fit(X).inertia_\n",
        "    inertia_list.append(inertia)"
      ],
      "metadata": {
        "execution": {
          "iopub.status.busy": "2023-12-25T10:23:03.546399Z",
          "iopub.execute_input": "2023-12-25T10:23:03.546861Z",
          "iopub.status.idle": "2023-12-25T10:23:13.955458Z",
          "shell.execute_reply.started": "2023-12-25T10:23:03.546829Z",
          "shell.execute_reply": "2023-12-25T10:23:13.954167Z"
        },
        "trusted": true,
        "id": "cuXL4qM3UF1L"
      },
      "execution_count": null,
      "outputs": []
    },
    {
      "cell_type": "code",
      "source": [
        "plt.figure(figsize=[7,5])\n",
        "plt.plot(range(2,10), inertia_list, color=(54 / 255, 113 / 255, 130 / 255))\n",
        "plt.title(\"Inertia vs. Number of Clusters\")\n",
        "plt.xlabel(\"Number of Clusters (K)\")\n",
        "plt.ylabel(\"Inertia\")\n",
        "plt.show()"
      ],
      "metadata": {
        "execution": {
          "iopub.status.busy": "2023-12-25T10:23:13.957255Z",
          "iopub.execute_input": "2023-12-25T10:23:13.958101Z",
          "iopub.status.idle": "2023-12-25T10:23:14.250019Z",
          "shell.execute_reply.started": "2023-12-25T10:23:13.958063Z",
          "shell.execute_reply": "2023-12-25T10:23:14.248875Z"
        },
        "trusted": true,
        "id": "N9YiG4f0UF1L"
      },
      "execution_count": null,
      "outputs": []
    },
    {
      "cell_type": "markdown",
      "source": [
        "There is no clear elbow on the chart. 5 or 6 clusters may be a good number of clusters."
      ],
      "metadata": {
        "id": "-eWMIFPTUF1L"
      }
    },
    {
      "cell_type": "markdown",
      "source": [
        "## Silhouette Score  \n",
        "Silhouette score is a metric that used to assess the quality of clustering. A higher silhouette score indicates that the clusters are well-separated, while a lower score suggests that the clusters may overlap or are poorly defined."
      ],
      "metadata": {
        "id": "RcVvjDw7UF1L"
      }
    },
    {
      "cell_type": "code",
      "source": [
        "from sklearn.metrics import silhouette_score\n",
        "silhouette_list = []\n",
        "for K in range(2,10):\n",
        "    model = KMeans(n_clusters = K, random_state=7)\n",
        "    clusters = model.fit_predict(X)\n",
        "    s_avg = silhouette_score(X, clusters)\n",
        "    silhouette_list.append(s_avg)\n",
        "\n",
        "plt.figure(figsize=[7,5])\n",
        "plt.plot(range(2,10), silhouette_list, color=(54 / 255, 113 / 255, 130 / 255))\n",
        "plt.title(\"Silhouette Score vs. Number of Clusters\")\n",
        "plt.xlabel(\"Number of Clusters (K)\")\n",
        "plt.ylabel(\"Silhouette Score\")\n",
        "plt.show()"
      ],
      "metadata": {
        "execution": {
          "iopub.status.busy": "2023-12-25T10:23:14.25144Z",
          "iopub.execute_input": "2023-12-25T10:23:14.25225Z",
          "iopub.status.idle": "2023-12-25T10:23:27.787019Z",
          "shell.execute_reply.started": "2023-12-25T10:23:14.252208Z",
          "shell.execute_reply": "2023-12-25T10:23:27.785751Z"
        },
        "trusted": true,
        "id": "wSjqq-vDUF1L"
      },
      "execution_count": null,
      "outputs": []
    },
    {
      "cell_type": "markdown",
      "source": [
        "The highest Silhouette score is for 2 clusters. 4 clusters seem to be a good enough choice."
      ],
      "metadata": {
        "id": "4fBZP3BXUF1L"
      }
    },
    {
      "cell_type": "markdown",
      "source": [
        "## Model with 4 Clusters"
      ],
      "metadata": {
        "id": "i9ckZHrLUF1L"
      }
    },
    {
      "cell_type": "code",
      "source": [
        "model = KMeans(n_clusters=4, random_state = 7)\n",
        "model.fit(rfm_scaled[cols_for_clustering])\n",
        "rfm_scaled['Cluster'] = model.predict(rfm_scaled[cols_for_clustering])\n",
        "rfm['Cluster'] = rfm_scaled.Cluster"
      ],
      "metadata": {
        "execution": {
          "iopub.status.busy": "2023-12-25T10:23:27.788262Z",
          "iopub.execute_input": "2023-12-25T10:23:27.788591Z",
          "iopub.status.idle": "2023-12-25T10:23:29.203072Z",
          "shell.execute_reply.started": "2023-12-25T10:23:27.788563Z",
          "shell.execute_reply": "2023-12-25T10:23:29.201957Z"
        },
        "trusted": true,
        "id": "pHmmoRXPUF1L"
      },
      "execution_count": null,
      "outputs": []
    },
    {
      "cell_type": "markdown",
      "source": [
        "## Evaluating Clusters"
      ],
      "metadata": {
        "id": "oNU3Y9yJUF1L"
      }
    },
    {
      "cell_type": "code",
      "source": [
        "plt.figure(figsize = (8, 6))\n",
        "ax = sns.countplot(data = rfm,\n",
        "                   x = 'Cluster',\n",
        "                   palette = 'hls')\n",
        "total = len(rfm.Cluster)\n",
        "for patch in ax.patches:\n",
        "    percentage = '{:.1f}%'.format(100 * patch.get_height()/total)\n",
        "    x = patch.get_x() + patch.get_width() / 2 - 0.17\n",
        "    y = patch.get_y() + patch.get_height() * 1.005\n",
        "    ax.annotate(percentage, (x, y), size = 12)\n",
        "plt.title('Number of Customers per Cluster', size = 16)\n",
        "plt.xlabel('Cluster', size = 12)\n",
        "plt.ylabel('Count', size = 12)\n",
        "plt.show()"
      ],
      "metadata": {
        "execution": {
          "iopub.status.busy": "2023-12-25T10:23:29.204442Z",
          "iopub.execute_input": "2023-12-25T10:23:29.205532Z",
          "iopub.status.idle": "2023-12-25T10:23:29.664417Z",
          "shell.execute_reply.started": "2023-12-25T10:23:29.205493Z",
          "shell.execute_reply": "2023-12-25T10:23:29.663008Z"
        },
        "trusted": true,
        "id": "WhYn9MY6UF1L"
      },
      "execution_count": null,
      "outputs": []
    },
    {
      "cell_type": "markdown",
      "source": [
        "### Recency and Frequency by Cluster"
      ],
      "metadata": {
        "id": "lEJ31824UF1L"
      }
    },
    {
      "cell_type": "code",
      "source": [
        "plt.figure(figsize=(18, 8))\n",
        "sns.scatterplot(\n",
        "    data=rfm, x=\"Recency\", y=\"Frequency\", hue=\"Cluster\", palette='tab10', s=60\n",
        ")\n",
        "plt.title(\"Recency and Frequency by Cluster\", size=16)\n",
        "plt.xlabel(\"Recency\", size=12)\n",
        "plt.ylabel(\"Frequency\", size=12)\n",
        "plt.xticks(size=10)\n",
        "plt.yticks(size=10)\n",
        "plt.legend(loc=\"best\", fontsize=12, title=\"Clusters\", title_fontsize=14)\n",
        "plt.ylim(0, 30)  #the axis needs limiting because of the high number of outliers\n",
        "plt.show()"
      ],
      "metadata": {
        "execution": {
          "iopub.status.busy": "2023-12-25T10:23:29.666305Z",
          "iopub.execute_input": "2023-12-25T10:23:29.667308Z",
          "iopub.status.idle": "2023-12-25T10:23:30.252221Z",
          "shell.execute_reply.started": "2023-12-25T10:23:29.667257Z",
          "shell.execute_reply": "2023-12-25T10:23:30.251029Z"
        },
        "trusted": true,
        "id": "ZBz52y6zUF1L"
      },
      "execution_count": null,
      "outputs": []
    },
    {
      "cell_type": "markdown",
      "source": [
        "### Recency and Monetary by Cluster"
      ],
      "metadata": {
        "id": "FhFsCwO5UF1L"
      }
    },
    {
      "cell_type": "code",
      "source": [
        "plt.figure(figsize=(18, 8))\n",
        "sns.scatterplot(\n",
        "    data=rfm, x=\"Recency\", y=\"Monetary\", hue=\"Cluster\", palette='tab10', s=60\n",
        ")\n",
        "plt.title(\"Recency and Monetary by Cluster\", size=16)\n",
        "plt.xlabel(\"Recency\", size=12)\n",
        "plt.ylabel(\"Monetary\", size=12)\n",
        "plt.xticks(size=10)\n",
        "plt.yticks(size=10)\n",
        "plt.legend(loc=\"best\", fontsize=12, title=\"Clusters\", title_fontsize=14)\n",
        "plt.ylim(0, 10000) # the axis needs limiting because of the high number of outliers\n",
        "plt.show()"
      ],
      "metadata": {
        "execution": {
          "iopub.status.busy": "2023-12-25T10:23:30.253764Z",
          "iopub.execute_input": "2023-12-25T10:23:30.254924Z",
          "iopub.status.idle": "2023-12-25T10:23:30.878112Z",
          "shell.execute_reply.started": "2023-12-25T10:23:30.25488Z",
          "shell.execute_reply": "2023-12-25T10:23:30.876851Z"
        },
        "trusted": true,
        "id": "4t7KrWx2UF1L"
      },
      "execution_count": null,
      "outputs": []
    },
    {
      "cell_type": "markdown",
      "source": [
        "# Comparing Results: RFM Segments vs. K-Mean Clusters\n",
        "## Descriptive Statistics"
      ],
      "metadata": {
        "id": "a8rDxxm4UF1L"
      }
    },
    {
      "cell_type": "code",
      "source": [
        "rfm_stats_cl = rfm[['Recency','Frequency','Monetary','Cluster']].groupby('Cluster').agg({'mean','std','max','min'})\n",
        "format_rules = {\n",
        "    ('Recency', 'mean'): '{:.2f}',\n",
        "    ('Recency', 'std'): '{:.2f}',\n",
        "    ('Recency', 'max'): '{:.0f}',\n",
        "    ('Recency', 'min'): '{:.0f}',\n",
        "    ('Monetary', 'mean'): '£{:,.2f}',\n",
        "    ('Monetary', 'std'): '£{:,.2f}',\n",
        "    ('Monetary', 'max'): '£{:,.0f}',\n",
        "    ('Monetary', 'min'): '£{:,.0f}',\n",
        "    ('Frequency', 'mean'): '{:.2f}',\n",
        "    ('Frequency', 'std'): '{:.2f}',\n",
        "    ('Frequency', 'max'): '{:.0f}',\n",
        "    ('Frequency', 'min'): '{:.0f}',\n",
        "}\n",
        "table_styles = [\n",
        "    {'selector': 'th.col_heading', 'props': 'text-align: center;'},\n",
        "    {'selector': 'th.col_heading.level0', 'props': 'font-size: 1.2em;'}\n",
        "]\n",
        "\n",
        "rfm_stats_cl_style = rfm_stats_cl.style.format(format_rules)\n",
        "rfm_stats_cl_style = rfm_stats_cl_style.set_table_styles(table_styles)\n",
        "rfm_stats_cl_style = rfm_stats_cl_style.set_table_styles(\n",
        "    {('Monetary', 'std'): [{'selector': 'th', 'props': 'border-left: 1px solid black'},\n",
        "                            {'selector': 'td', 'props': 'border-left: 1px solid black'}\n",
        "                          ],\n",
        "    ('Frequency', 'std'): [{'selector': 'th', 'props': 'border-left: 1px solid black'},\n",
        "                            {'selector': 'td', 'props': 'border-left: 1px solid black'}\n",
        "                          ]\n",
        "    },\n",
        "    overwrite = False,\n",
        "    axis=0)\n",
        "rfm_stats_cl_style"
      ],
      "metadata": {
        "execution": {
          "iopub.status.busy": "2023-12-25T10:23:30.879609Z",
          "iopub.execute_input": "2023-12-25T10:23:30.880014Z",
          "iopub.status.idle": "2023-12-25T10:23:30.914962Z",
          "shell.execute_reply.started": "2023-12-25T10:23:30.87997Z",
          "shell.execute_reply": "2023-12-25T10:23:30.913802Z"
        },
        "jupyter": {
          "source_hidden": true
        },
        "trusted": true,
        "id": "p2mSOLqKUF1M"
      },
      "execution_count": null,
      "outputs": []
    },
    {
      "cell_type": "code",
      "source": [
        "combined_stats = pd.concat([rfm_stats_cl.assign(Source='Cluster'), rfm_stats.assign(Source='Segment')])\n",
        "combined_stats.head(20)"
      ],
      "metadata": {
        "execution": {
          "iopub.status.busy": "2023-12-25T10:23:30.91684Z",
          "iopub.execute_input": "2023-12-25T10:23:30.917241Z",
          "iopub.status.idle": "2023-12-25T10:23:30.946161Z",
          "shell.execute_reply.started": "2023-12-25T10:23:30.917208Z",
          "shell.execute_reply": "2023-12-25T10:23:30.944999Z"
        },
        "trusted": true,
        "id": "tr3edflfUF1M"
      },
      "execution_count": null,
      "outputs": []
    },
    {
      "cell_type": "code",
      "source": [
        "combined_stats[('Recency', 'mean')].plot(kind='bar', figsize=(8, 4))\n",
        "plt.title('Mean Recency by Segment / Cluster')\n",
        "plt.xlabel('Segment / Cluster')\n",
        "plt.ylabel('Recency')\n",
        "plt.show()"
      ],
      "metadata": {
        "execution": {
          "iopub.status.busy": "2023-12-25T10:23:30.94807Z",
          "iopub.execute_input": "2023-12-25T10:23:30.949008Z",
          "iopub.status.idle": "2023-12-25T10:23:31.203017Z",
          "shell.execute_reply.started": "2023-12-25T10:23:30.948963Z",
          "shell.execute_reply": "2023-12-25T10:23:31.201841Z"
        },
        "trusted": true,
        "id": "oz1Y1FeXUF1M"
      },
      "execution_count": null,
      "outputs": []
    },
    {
      "cell_type": "code",
      "source": [
        "combined_stats[('Frequency', 'mean')].plot(kind='bar', figsize=(8, 4))\n",
        "plt.title('Mean Frequency by Segment / Cluster')\n",
        "plt.xlabel('Segment / Cluster')\n",
        "plt.ylabel('Frequency')\n",
        "plt.show()"
      ],
      "metadata": {
        "execution": {
          "iopub.status.busy": "2023-12-25T10:23:31.204734Z",
          "iopub.execute_input": "2023-12-25T10:23:31.205555Z",
          "iopub.status.idle": "2023-12-25T10:23:31.472398Z",
          "shell.execute_reply.started": "2023-12-25T10:23:31.205509Z",
          "shell.execute_reply": "2023-12-25T10:23:31.471109Z"
        },
        "trusted": true,
        "id": "BBKWEo2UUF1M"
      },
      "execution_count": null,
      "outputs": []
    },
    {
      "cell_type": "code",
      "source": [
        "combined_stats[('Monetary', 'mean')].plot(kind='bar', figsize=(8, 4))\n",
        "plt.title('Mean Monetary by Segment / Cluster')\n",
        "plt.xlabel('Segment / Cluster')\n",
        "plt.ylabel('Monetary')\n",
        "plt.show()"
      ],
      "metadata": {
        "execution": {
          "iopub.status.busy": "2023-12-25T10:23:31.474348Z",
          "iopub.execute_input": "2023-12-25T10:23:31.475293Z",
          "iopub.status.idle": "2023-12-25T10:23:31.741193Z",
          "shell.execute_reply.started": "2023-12-25T10:23:31.475245Z",
          "shell.execute_reply": "2023-12-25T10:23:31.73996Z"
        },
        "trusted": true,
        "id": "YgLXpTe9UF1M"
      },
      "execution_count": null,
      "outputs": []
    },
    {
      "cell_type": "markdown",
      "source": [
        "## Mapping of Clusters and RFM Segments"
      ],
      "metadata": {
        "id": "WJV_bjvUUF1M"
      }
    },
    {
      "cell_type": "code",
      "source": [
        "rfm_cl_seg = rfm[['Cluster', 'Segment', 'CustomerID']].groupby(['Cluster', 'Segment']).agg({'count'})\n",
        "rfm_cl_seg=rfm_cl_seg.reset_index()\n",
        "rfm_cl_seg.head()"
      ],
      "metadata": {
        "execution": {
          "iopub.status.busy": "2023-12-25T10:23:31.743002Z",
          "iopub.execute_input": "2023-12-25T10:23:31.743699Z",
          "iopub.status.idle": "2023-12-25T10:23:31.766225Z",
          "shell.execute_reply.started": "2023-12-25T10:23:31.743656Z",
          "shell.execute_reply": "2023-12-25T10:23:31.764929Z"
        },
        "trusted": true,
        "id": "MHvU2zBiUF1M"
      },
      "execution_count": null,
      "outputs": []
    },
    {
      "cell_type": "code",
      "source": [
        "color_mapping = {\n",
        "    'Champions':'forestgreen',\n",
        "    'Loyal' : 'lightseagreen',\n",
        "    'Recent' : 'deepskyblue',\n",
        "    'Needs attention': 'gold',\n",
        "    'At risk': 'tomato',\n",
        "    'Inactive': 'mediumpurple'\n",
        "    }\n",
        "\n",
        "rfm_cluster = rfm_cl_seg[rfm_cl_seg[('Cluster', )] == 0]\n",
        "plt.figure(figsize=(5, 5))\n",
        "colors = sns.color_palette('hls')\n",
        "plt.pie(rfm_cluster[('CustomerID', 'count')],\n",
        "        labels=rfm_cluster[('Segment', )],\n",
        "        autopct='%1.1f%%', startangle=140,\n",
        "        colors=rfm_cluster['Segment'].map(color_mapping),\n",
        "        wedgeprops=dict(edgecolor='white'))\n",
        "plt.title('Cluster 0 vs. RFM Segments')\n",
        "plt.show()"
      ],
      "metadata": {
        "execution": {
          "iopub.status.busy": "2023-12-25T10:23:31.768026Z",
          "iopub.execute_input": "2023-12-25T10:23:31.768462Z",
          "iopub.status.idle": "2023-12-25T10:23:31.917345Z",
          "shell.execute_reply.started": "2023-12-25T10:23:31.768422Z",
          "shell.execute_reply": "2023-12-25T10:23:31.915712Z"
        },
        "jupyter": {
          "source_hidden": true
        },
        "trusted": true,
        "id": "u4zRkJFHUF1M"
      },
      "execution_count": null,
      "outputs": []
    },
    {
      "cell_type": "markdown",
      "source": [
        "Cluster 0 contains mainly Loyal and Recent customers. These customers purchased recently however their mean Monetary value was low. This cluster contains 'promising' customers."
      ],
      "metadata": {
        "id": "ABomBPl8UF1M"
      }
    },
    {
      "cell_type": "code",
      "source": [
        "rfm_cluster = rfm_cl_seg[rfm_cl_seg[('Cluster', )] == 1]\n",
        "plt.figure(figsize=(5, 5))\n",
        "plt.pie(rfm_cluster[('CustomerID', 'count')],\n",
        "        labels=rfm_cluster[('Segment', )],\n",
        "        autopct='%1.1f%%', startangle=140,\n",
        "        colors=rfm_cluster['Segment'].map(color_mapping),\n",
        "        wedgeprops=dict(edgecolor='white'))\n",
        "plt.title('Cluster 1 vs. RFM Segments')\n",
        "plt.show()"
      ],
      "metadata": {
        "execution": {
          "iopub.status.busy": "2023-12-25T10:23:31.919692Z",
          "iopub.execute_input": "2023-12-25T10:23:31.920261Z",
          "iopub.status.idle": "2023-12-25T10:23:32.089838Z",
          "shell.execute_reply.started": "2023-12-25T10:23:31.920208Z",
          "shell.execute_reply": "2023-12-25T10:23:32.088639Z"
        },
        "jupyter": {
          "source_hidden": true
        },
        "trusted": true,
        "id": "NMikQHlZUF1M"
      },
      "execution_count": null,
      "outputs": []
    },
    {
      "cell_type": "markdown",
      "source": [
        "Cluster 1 has mostly Inactive and At Risk customers as per the RFM Framework."
      ],
      "metadata": {
        "id": "jiR_STO-UF1M"
      }
    },
    {
      "cell_type": "code",
      "source": [
        "rfm_cluster = rfm_cl_seg[rfm_cl_seg[('Cluster', )] == 2]\n",
        "plt.figure(figsize=(5, 5))\n",
        "plt.pie(rfm_cluster[('CustomerID', 'count')],\n",
        "        labels=rfm_cluster[('Segment', )],\n",
        "        autopct='%1.1f%%', startangle=140,\n",
        "        colors=rfm_cluster['Segment'].map(color_mapping),\n",
        "        wedgeprops=dict(edgecolor='white'))\n",
        "plt.title('Cluster 2 vs. RFM Segments')\n",
        "plt.show()"
      ],
      "metadata": {
        "execution": {
          "iopub.status.busy": "2023-12-25T10:23:32.092132Z",
          "iopub.execute_input": "2023-12-25T10:23:32.099095Z",
          "iopub.status.idle": "2023-12-25T10:23:32.288305Z",
          "shell.execute_reply.started": "2023-12-25T10:23:32.099002Z",
          "shell.execute_reply": "2023-12-25T10:23:32.286827Z"
        },
        "jupyter": {
          "source_hidden": true
        },
        "trusted": true,
        "id": "aPXLaAt0UF1M"
      },
      "execution_count": null,
      "outputs": []
    },
    {
      "cell_type": "markdown",
      "source": [
        "Cluster 2 almost matches the Segment with Champions."
      ],
      "metadata": {
        "id": "h8r38_P6UF1M"
      }
    },
    {
      "cell_type": "code",
      "source": [
        "rfm_cluster = rfm_cl_seg[rfm_cl_seg[('Cluster', )] == 3]\n",
        "plt.figure(figsize=(5, 5))\n",
        "plt.pie(rfm_cluster[('CustomerID', 'count')],\n",
        "        labels=rfm_cluster[('Segment', )],\n",
        "        autopct='%1.1f%%', startangle=140,\n",
        "        colors=rfm_cluster['Segment'].map(color_mapping),\n",
        "        wedgeprops=dict(edgecolor='white'))\n",
        "plt.title('Cluster 3 vs. RFM Segments')\n",
        "plt.show()"
      ],
      "metadata": {
        "execution": {
          "iopub.status.busy": "2023-12-25T10:23:32.290065Z",
          "iopub.execute_input": "2023-12-25T10:23:32.291037Z",
          "iopub.status.idle": "2023-12-25T10:23:32.450433Z",
          "shell.execute_reply.started": "2023-12-25T10:23:32.290991Z",
          "shell.execute_reply": "2023-12-25T10:23:32.448931Z"
        },
        "jupyter": {
          "source_hidden": true
        },
        "trusted": true,
        "id": "P-eKFoOxUF1M"
      },
      "execution_count": null,
      "outputs": []
    },
    {
      "cell_type": "markdown",
      "source": [
        "Cluster 3 has a mix of different RFM segments."
      ],
      "metadata": {
        "id": "6kMULRcxUF1M"
      }
    },
    {
      "cell_type": "markdown",
      "source": [
        "# Conclusion\n",
        "\n",
        "RFM Segments are easy to interpret and provide recommendations for marketing strategies tailored to each customer segment. However, some segments are not as distinct as those created by K-means clustering.\n",
        "\n",
        "K-Means clustering generates very distinct segments that may require interpretation.\n",
        "\n",
        "Interestingly, the Champions segment almost matched in both methods.\n",
        "\n",
        "\n",
        "## Example of marketing strategies for RFM segments\n",
        "<b> Champions</b>\n",
        "- Invite them first to sales, promotions, etc.\n",
        "- Send them rewards or coupons for their loyalty.\n",
        "- Get reviews from them.\n",
        "\n",
        "<b> Loyal </b>\n",
        "- Send them rewards or coupons for their loyalty.\n",
        "- Use cross-selling or up-selling of similar past purchases or popular products.\n",
        "- Get reviews from them.\n",
        "- Invite them to sales, promotions, etc. right after your Champions.\n",
        "- Encourage or remind them to restock items or past purchases.\n",
        "\n",
        "<b> Recent </b>\n",
        "- Convert them to a subscription and try to convert them to Champions\n",
        "- Offer them a promotion within the average time to order to try to convert them.\n",
        "- Encourage or remind them to restock items or past purchases.\n",
        "- Use cross-selling or up-selling of similar past purchases.\n",
        "- Provide testimonials or reviews from your Champions or Loyal to encourage purchases.\n",
        "\n",
        "<b> Needs Attention </b>\n",
        "- Let them know about new product releases.\n",
        "- Try a winback campaign to re-engage them.\n",
        "- Offer them an exclusive promotion or coupon (especially time-limited promotions).\n",
        "- Personalize product recommendations based on what they purchased in the past.\n",
        "- Encourage or remind them to restock items or past purchases.\n",
        "\n",
        "<b> At Risk </b>\n",
        "- Try a winback campaign to re-engage them.\n",
        "- Offer them an exclusive promotion or coupon (especially time-limited promotions).\n",
        "- Personalize product recommendations based on what they purchased in the past.\n",
        "- They may be more price sensitive than the Needs attention group, so target with more affordable products.\n",
        "- Try not to over-message as they are a churn-risk\n",
        "\n",
        "<b> Inactive </b>\n",
        "- Try a winback campaign to re-engage them.\n",
        "- Offer them an exclusive promotion or coupon (especially time-limited promotions).\n"
      ],
      "metadata": {
        "id": "fp379ztPUF1M"
      }
    },
    {
      "cell_type": "markdown",
      "source": [
        "# References\n",
        "\n",
        "Kaggle notebooks:  \n",
        "https://www.kaggle.com/code/fabiendaniel/customer-segmentation  \n",
        "https://www.kaggle.com/code/ozlemilgun/customer-segmentation-using-rfm-analysis   \n",
        "https://www.kaggle.com/code/fabiendaniel/customer-segmentation  \n",
        "https://www.kaggle.com/code/sercanyesiloz/crm-analytics  \n",
        "\n",
        "Article on Investopedia:  \n",
        "https://www.investopedia.com/terms/r/rfm-recency-frequency-monetary-value.asp\n",
        "\n",
        "The original article \"Optimal Selection for Direct Mail\" (1995) that presented the RFM concept:  \n",
        "https://www.researchgate.net/publication/227442110_Optimal_Selection_for_Direct_Mail\n",
        "\n",
        "Customer Segmentation Strategies Used on Different Platforms:  \n",
        "https://www.putler.com/rfm-analysis/   \n",
        "https://help.klaviyo.com/hc/en-us/articles/17797937793179   \n",
        "https://help.moengage.com/hc/en-us/articles/360037365132-RFM-Segments   \n"
      ],
      "metadata": {
        "id": "YROUqvrkUF1M"
      }
    },
    {
      "cell_type": "markdown",
      "source": [
        "# Thank you!\n",
        "Thank you for reading this notebook. Please upvote if you liked the notebook. Your comments and suggestions are highly appreciated."
      ],
      "metadata": {
        "id": "pwtwJ2qWUF1M"
      }
    }
  ]
}